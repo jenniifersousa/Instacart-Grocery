{
 "cells": [
  {
   "cell_type": "markdown",
   "id": "3dbe1b63",
   "metadata": {},
   "source": [
    "# 4.10 Coding Etiquette & Excel Reporting"
   ]
  },
  {
   "cell_type": "markdown",
   "id": "54c5abd3",
   "metadata": {},
   "source": [
    "### This script contains the following points:\n",
    "\n",
    "#### 1. (Step 1) Importing libraries, defining project path, and importing \"orders_products_customers\" \n",
    "#### 2. (Step 2)  PII\n",
    "#### 3. (Step 3a) Creating column \"region\"\n",
    "#### 4. (Step 3b) Analyzing spending habits between regions\n",
    "#### 5. (Step 4a) Creating column for exclusion flag \"low_activity?\" (to identify low activity customers)\n",
    "#### 6. (Step 4b) Exporting file as \"orders_products_all_flagged.pkl\"\n",
    "\n",
    "\n",
    "#### 1. (Step 1 revisited) Importing libraries, defining project path\n",
    "#### 2. (Step 5a) Creating customer profiles for generation and income \n",
    "#### 3. (Step 5b) Creating a flag for non-food and non-beverage departments \n",
    "#### 4. (Step 6) Creating visualizations for distribution of profiles\n",
    "- (a) Generation profiles: Description and Frequency Chart\n",
    "- (b) Income profiles: Description and Frequency Chart\n",
    "\n",
    "#### 5. (Step 7) Aggregating max, min, and mean variables on a customer-profile level\n"
   ]
  },
  {
   "cell_type": "code",
   "execution_count": 2,
   "id": "5f5b6657",
   "metadata": {},
   "outputs": [],
   "source": [
    "#Importing Libraries\n",
    "import pandas as pd\n",
    "import numpy as np\n",
    "import os\n",
    "import matplotlib.pyplot as plt\n",
    "import seaborn as sns\n",
    "import scipy"
   ]
  },
  {
   "cell_type": "code",
   "execution_count": 3,
   "id": "dd308ae0",
   "metadata": {},
   "outputs": [],
   "source": [
    "path = r'/Users/ronaldcameron/Documents/Data Analytics/Achievement 4 - Python/02:2023 Insta Cart Basket Analysis/Data'"
   ]
  },
  {
   "cell_type": "code",
   "execution_count": 4,
   "id": "ef21b167",
   "metadata": {},
   "outputs": [],
   "source": [
    "new_customer_data = pd.read_pickle(r'/Users/ronaldcameron/Documents/Data Analytics/Achievement 4 - Python/02:2023 Insta Cart Basket Analysis/Data/Prepared Data/orders_products_customers.pkl')"
   ]
  },
  {
   "cell_type": "code",
   "execution_count": 108,
   "id": "1b9e35db",
   "metadata": {},
   "outputs": [
    {
     "data": {
      "text/html": [
       "<div>\n",
       "<style scoped>\n",
       "    .dataframe tbody tr th:only-of-type {\n",
       "        vertical-align: middle;\n",
       "    }\n",
       "\n",
       "    .dataframe tbody tr th {\n",
       "        vertical-align: top;\n",
       "    }\n",
       "\n",
       "    .dataframe thead th {\n",
       "        text-align: right;\n",
       "    }\n",
       "</style>\n",
       "<table border=\"1\" class=\"dataframe\">\n",
       "  <thead>\n",
       "    <tr style=\"text-align: right;\">\n",
       "      <th></th>\n",
       "      <th>Unnamed: 0</th>\n",
       "      <th>product_id</th>\n",
       "      <th>product_name</th>\n",
       "      <th>aisle_id</th>\n",
       "      <th>department_id</th>\n",
       "      <th>prices</th>\n",
       "      <th>order_id</th>\n",
       "      <th>user_id</th>\n",
       "      <th>order_number</th>\n",
       "      <th>orders_day_of_week</th>\n",
       "      <th>...</th>\n",
       "      <th>spending_flag</th>\n",
       "      <th>prior_orders</th>\n",
       "      <th>frequency_flag</th>\n",
       "      <th>gender</th>\n",
       "      <th>state</th>\n",
       "      <th>age</th>\n",
       "      <th>date_joined</th>\n",
       "      <th>number_dependants</th>\n",
       "      <th>family_status</th>\n",
       "      <th>income</th>\n",
       "    </tr>\n",
       "  </thead>\n",
       "  <tbody>\n",
       "    <tr>\n",
       "      <th>0</th>\n",
       "      <td>0.0</td>\n",
       "      <td>1.0</td>\n",
       "      <td>Chocolate Sandwich Cookies</td>\n",
       "      <td>61.0</td>\n",
       "      <td>19.0</td>\n",
       "      <td>5.8</td>\n",
       "      <td>3139998.0</td>\n",
       "      <td>138</td>\n",
       "      <td>28.0</td>\n",
       "      <td>6.0</td>\n",
       "      <td>...</td>\n",
       "      <td>Low spender</td>\n",
       "      <td>10.4</td>\n",
       "      <td>Regular customer</td>\n",
       "      <td>Male</td>\n",
       "      <td>Minnesota</td>\n",
       "      <td>81</td>\n",
       "      <td>8/1/2019</td>\n",
       "      <td>1</td>\n",
       "      <td>married</td>\n",
       "      <td>49620</td>\n",
       "    </tr>\n",
       "    <tr>\n",
       "      <th>1</th>\n",
       "      <td>0.0</td>\n",
       "      <td>1.0</td>\n",
       "      <td>Chocolate Sandwich Cookies</td>\n",
       "      <td>61.0</td>\n",
       "      <td>19.0</td>\n",
       "      <td>5.8</td>\n",
       "      <td>1977647.0</td>\n",
       "      <td>138</td>\n",
       "      <td>30.0</td>\n",
       "      <td>6.0</td>\n",
       "      <td>...</td>\n",
       "      <td>Low spender</td>\n",
       "      <td>10.4</td>\n",
       "      <td>Regular customer</td>\n",
       "      <td>Male</td>\n",
       "      <td>Minnesota</td>\n",
       "      <td>81</td>\n",
       "      <td>8/1/2019</td>\n",
       "      <td>1</td>\n",
       "      <td>married</td>\n",
       "      <td>49620</td>\n",
       "    </tr>\n",
       "    <tr>\n",
       "      <th>2</th>\n",
       "      <td>907.0</td>\n",
       "      <td>907.0</td>\n",
       "      <td>Premium Sliced Bacon</td>\n",
       "      <td>106.0</td>\n",
       "      <td>12.0</td>\n",
       "      <td>20.0</td>\n",
       "      <td>2254091.0</td>\n",
       "      <td>138</td>\n",
       "      <td>10.0</td>\n",
       "      <td>5.0</td>\n",
       "      <td>...</td>\n",
       "      <td>Low spender</td>\n",
       "      <td>10.4</td>\n",
       "      <td>Regular customer</td>\n",
       "      <td>Male</td>\n",
       "      <td>Minnesota</td>\n",
       "      <td>81</td>\n",
       "      <td>8/1/2019</td>\n",
       "      <td>1</td>\n",
       "      <td>married</td>\n",
       "      <td>49620</td>\n",
       "    </tr>\n",
       "    <tr>\n",
       "      <th>3</th>\n",
       "      <td>1000.0</td>\n",
       "      <td>1000.0</td>\n",
       "      <td>Apricots</td>\n",
       "      <td>18.0</td>\n",
       "      <td>10.0</td>\n",
       "      <td>12.9</td>\n",
       "      <td>505689.0</td>\n",
       "      <td>138</td>\n",
       "      <td>9.0</td>\n",
       "      <td>6.0</td>\n",
       "      <td>...</td>\n",
       "      <td>Low spender</td>\n",
       "      <td>10.4</td>\n",
       "      <td>Regular customer</td>\n",
       "      <td>Male</td>\n",
       "      <td>Minnesota</td>\n",
       "      <td>81</td>\n",
       "      <td>8/1/2019</td>\n",
       "      <td>1</td>\n",
       "      <td>married</td>\n",
       "      <td>49620</td>\n",
       "    </tr>\n",
       "    <tr>\n",
       "      <th>4</th>\n",
       "      <td>3265.0</td>\n",
       "      <td>3265.0</td>\n",
       "      <td>Mini Seedless Watermelon Pack</td>\n",
       "      <td>32.0</td>\n",
       "      <td>4.0</td>\n",
       "      <td>1.7</td>\n",
       "      <td>960220.0</td>\n",
       "      <td>138</td>\n",
       "      <td>17.0</td>\n",
       "      <td>5.0</td>\n",
       "      <td>...</td>\n",
       "      <td>Low spender</td>\n",
       "      <td>10.4</td>\n",
       "      <td>Regular customer</td>\n",
       "      <td>Male</td>\n",
       "      <td>Minnesota</td>\n",
       "      <td>81</td>\n",
       "      <td>8/1/2019</td>\n",
       "      <td>1</td>\n",
       "      <td>married</td>\n",
       "      <td>49620</td>\n",
       "    </tr>\n",
       "    <tr>\n",
       "      <th>5</th>\n",
       "      <td>4913.0</td>\n",
       "      <td>4913.0</td>\n",
       "      <td>Table Water Crackers</td>\n",
       "      <td>78.0</td>\n",
       "      <td>19.0</td>\n",
       "      <td>4.4</td>\n",
       "      <td>894221.0</td>\n",
       "      <td>138</td>\n",
       "      <td>23.0</td>\n",
       "      <td>5.0</td>\n",
       "      <td>...</td>\n",
       "      <td>Low spender</td>\n",
       "      <td>10.4</td>\n",
       "      <td>Regular customer</td>\n",
       "      <td>Male</td>\n",
       "      <td>Minnesota</td>\n",
       "      <td>81</td>\n",
       "      <td>8/1/2019</td>\n",
       "      <td>1</td>\n",
       "      <td>married</td>\n",
       "      <td>49620</td>\n",
       "    </tr>\n",
       "    <tr>\n",
       "      <th>6</th>\n",
       "      <td>6184.0</td>\n",
       "      <td>6184.0</td>\n",
       "      <td>Clementines</td>\n",
       "      <td>32.0</td>\n",
       "      <td>4.0</td>\n",
       "      <td>4.3</td>\n",
       "      <td>1977647.0</td>\n",
       "      <td>138</td>\n",
       "      <td>30.0</td>\n",
       "      <td>6.0</td>\n",
       "      <td>...</td>\n",
       "      <td>Low spender</td>\n",
       "      <td>10.4</td>\n",
       "      <td>Regular customer</td>\n",
       "      <td>Male</td>\n",
       "      <td>Minnesota</td>\n",
       "      <td>81</td>\n",
       "      <td>8/1/2019</td>\n",
       "      <td>1</td>\n",
       "      <td>married</td>\n",
       "      <td>49620</td>\n",
       "    </tr>\n",
       "    <tr>\n",
       "      <th>7</th>\n",
       "      <td>6901.0</td>\n",
       "      <td>6901.0</td>\n",
       "      <td>Raisin Bran</td>\n",
       "      <td>121.0</td>\n",
       "      <td>14.0</td>\n",
       "      <td>2.9</td>\n",
       "      <td>1154289.0</td>\n",
       "      <td>138</td>\n",
       "      <td>18.0</td>\n",
       "      <td>1.0</td>\n",
       "      <td>...</td>\n",
       "      <td>Low spender</td>\n",
       "      <td>10.4</td>\n",
       "      <td>Regular customer</td>\n",
       "      <td>Male</td>\n",
       "      <td>Minnesota</td>\n",
       "      <td>81</td>\n",
       "      <td>8/1/2019</td>\n",
       "      <td>1</td>\n",
       "      <td>married</td>\n",
       "      <td>49620</td>\n",
       "    </tr>\n",
       "    <tr>\n",
       "      <th>8</th>\n",
       "      <td>7147.0</td>\n",
       "      <td>7147.0</td>\n",
       "      <td>Classic Baby Creamers Potatoes</td>\n",
       "      <td>83.0</td>\n",
       "      <td>4.0</td>\n",
       "      <td>9.0</td>\n",
       "      <td>930730.0</td>\n",
       "      <td>138</td>\n",
       "      <td>2.0</td>\n",
       "      <td>0.0</td>\n",
       "      <td>...</td>\n",
       "      <td>Low spender</td>\n",
       "      <td>10.4</td>\n",
       "      <td>Regular customer</td>\n",
       "      <td>Male</td>\n",
       "      <td>Minnesota</td>\n",
       "      <td>81</td>\n",
       "      <td>8/1/2019</td>\n",
       "      <td>1</td>\n",
       "      <td>married</td>\n",
       "      <td>49620</td>\n",
       "    </tr>\n",
       "    <tr>\n",
       "      <th>9</th>\n",
       "      <td>7987.0</td>\n",
       "      <td>7987.0</td>\n",
       "      <td>Hazelnut Spread with Cocoa</td>\n",
       "      <td>88.0</td>\n",
       "      <td>13.0</td>\n",
       "      <td>12.8</td>\n",
       "      <td>1592314.0</td>\n",
       "      <td>138</td>\n",
       "      <td>5.0</td>\n",
       "      <td>0.0</td>\n",
       "      <td>...</td>\n",
       "      <td>Low spender</td>\n",
       "      <td>10.4</td>\n",
       "      <td>Regular customer</td>\n",
       "      <td>Male</td>\n",
       "      <td>Minnesota</td>\n",
       "      <td>81</td>\n",
       "      <td>8/1/2019</td>\n",
       "      <td>1</td>\n",
       "      <td>married</td>\n",
       "      <td>49620</td>\n",
       "    </tr>\n",
       "    <tr>\n",
       "      <th>10</th>\n",
       "      <td>8048.0</td>\n",
       "      <td>8048.0</td>\n",
       "      <td>Packaged Grape Tomatoes</td>\n",
       "      <td>32.0</td>\n",
       "      <td>4.0</td>\n",
       "      <td>11.4</td>\n",
       "      <td>930730.0</td>\n",
       "      <td>138</td>\n",
       "      <td>2.0</td>\n",
       "      <td>0.0</td>\n",
       "      <td>...</td>\n",
       "      <td>Low spender</td>\n",
       "      <td>10.4</td>\n",
       "      <td>Regular customer</td>\n",
       "      <td>Male</td>\n",
       "      <td>Minnesota</td>\n",
       "      <td>81</td>\n",
       "      <td>8/1/2019</td>\n",
       "      <td>1</td>\n",
       "      <td>married</td>\n",
       "      <td>49620</td>\n",
       "    </tr>\n",
       "    <tr>\n",
       "      <th>11</th>\n",
       "      <td>8048.0</td>\n",
       "      <td>8048.0</td>\n",
       "      <td>Packaged Grape Tomatoes</td>\n",
       "      <td>32.0</td>\n",
       "      <td>4.0</td>\n",
       "      <td>11.4</td>\n",
       "      <td>1421595.0</td>\n",
       "      <td>138</td>\n",
       "      <td>3.0</td>\n",
       "      <td>2.0</td>\n",
       "      <td>...</td>\n",
       "      <td>Low spender</td>\n",
       "      <td>10.4</td>\n",
       "      <td>Regular customer</td>\n",
       "      <td>Male</td>\n",
       "      <td>Minnesota</td>\n",
       "      <td>81</td>\n",
       "      <td>8/1/2019</td>\n",
       "      <td>1</td>\n",
       "      <td>married</td>\n",
       "      <td>49620</td>\n",
       "    </tr>\n",
       "    <tr>\n",
       "      <th>12</th>\n",
       "      <td>10473.0</td>\n",
       "      <td>10473.0</td>\n",
       "      <td>Half And Half Cream</td>\n",
       "      <td>53.0</td>\n",
       "      <td>16.0</td>\n",
       "      <td>7.0</td>\n",
       "      <td>930730.0</td>\n",
       "      <td>138</td>\n",
       "      <td>2.0</td>\n",
       "      <td>0.0</td>\n",
       "      <td>...</td>\n",
       "      <td>Low spender</td>\n",
       "      <td>10.4</td>\n",
       "      <td>Regular customer</td>\n",
       "      <td>Male</td>\n",
       "      <td>Minnesota</td>\n",
       "      <td>81</td>\n",
       "      <td>8/1/2019</td>\n",
       "      <td>1</td>\n",
       "      <td>married</td>\n",
       "      <td>49620</td>\n",
       "    </tr>\n",
       "    <tr>\n",
       "      <th>13</th>\n",
       "      <td>10473.0</td>\n",
       "      <td>10473.0</td>\n",
       "      <td>Half And Half Cream</td>\n",
       "      <td>53.0</td>\n",
       "      <td>16.0</td>\n",
       "      <td>7.0</td>\n",
       "      <td>1421595.0</td>\n",
       "      <td>138</td>\n",
       "      <td>3.0</td>\n",
       "      <td>2.0</td>\n",
       "      <td>...</td>\n",
       "      <td>Low spender</td>\n",
       "      <td>10.4</td>\n",
       "      <td>Regular customer</td>\n",
       "      <td>Male</td>\n",
       "      <td>Minnesota</td>\n",
       "      <td>81</td>\n",
       "      <td>8/1/2019</td>\n",
       "      <td>1</td>\n",
       "      <td>married</td>\n",
       "      <td>49620</td>\n",
       "    </tr>\n",
       "    <tr>\n",
       "      <th>14</th>\n",
       "      <td>10473.0</td>\n",
       "      <td>10473.0</td>\n",
       "      <td>Half And Half Cream</td>\n",
       "      <td>53.0</td>\n",
       "      <td>16.0</td>\n",
       "      <td>7.0</td>\n",
       "      <td>1592314.0</td>\n",
       "      <td>138</td>\n",
       "      <td>5.0</td>\n",
       "      <td>0.0</td>\n",
       "      <td>...</td>\n",
       "      <td>Low spender</td>\n",
       "      <td>10.4</td>\n",
       "      <td>Regular customer</td>\n",
       "      <td>Male</td>\n",
       "      <td>Minnesota</td>\n",
       "      <td>81</td>\n",
       "      <td>8/1/2019</td>\n",
       "      <td>1</td>\n",
       "      <td>married</td>\n",
       "      <td>49620</td>\n",
       "    </tr>\n",
       "    <tr>\n",
       "      <th>15</th>\n",
       "      <td>10473.0</td>\n",
       "      <td>10473.0</td>\n",
       "      <td>Half And Half Cream</td>\n",
       "      <td>53.0</td>\n",
       "      <td>16.0</td>\n",
       "      <td>7.0</td>\n",
       "      <td>3052988.0</td>\n",
       "      <td>138</td>\n",
       "      <td>6.0</td>\n",
       "      <td>0.0</td>\n",
       "      <td>...</td>\n",
       "      <td>Low spender</td>\n",
       "      <td>10.4</td>\n",
       "      <td>Regular customer</td>\n",
       "      <td>Male</td>\n",
       "      <td>Minnesota</td>\n",
       "      <td>81</td>\n",
       "      <td>8/1/2019</td>\n",
       "      <td>1</td>\n",
       "      <td>married</td>\n",
       "      <td>49620</td>\n",
       "    </tr>\n",
       "    <tr>\n",
       "      <th>16</th>\n",
       "      <td>10473.0</td>\n",
       "      <td>10473.0</td>\n",
       "      <td>Half And Half Cream</td>\n",
       "      <td>53.0</td>\n",
       "      <td>16.0</td>\n",
       "      <td>7.0</td>\n",
       "      <td>1986630.0</td>\n",
       "      <td>138</td>\n",
       "      <td>7.0</td>\n",
       "      <td>0.0</td>\n",
       "      <td>...</td>\n",
       "      <td>Low spender</td>\n",
       "      <td>10.4</td>\n",
       "      <td>Regular customer</td>\n",
       "      <td>Male</td>\n",
       "      <td>Minnesota</td>\n",
       "      <td>81</td>\n",
       "      <td>8/1/2019</td>\n",
       "      <td>1</td>\n",
       "      <td>married</td>\n",
       "      <td>49620</td>\n",
       "    </tr>\n",
       "    <tr>\n",
       "      <th>17</th>\n",
       "      <td>10473.0</td>\n",
       "      <td>10473.0</td>\n",
       "      <td>Half And Half Cream</td>\n",
       "      <td>53.0</td>\n",
       "      <td>16.0</td>\n",
       "      <td>7.0</td>\n",
       "      <td>2823056.0</td>\n",
       "      <td>138</td>\n",
       "      <td>8.0</td>\n",
       "      <td>6.0</td>\n",
       "      <td>...</td>\n",
       "      <td>Low spender</td>\n",
       "      <td>10.4</td>\n",
       "      <td>Regular customer</td>\n",
       "      <td>Male</td>\n",
       "      <td>Minnesota</td>\n",
       "      <td>81</td>\n",
       "      <td>8/1/2019</td>\n",
       "      <td>1</td>\n",
       "      <td>married</td>\n",
       "      <td>49620</td>\n",
       "    </tr>\n",
       "    <tr>\n",
       "      <th>18</th>\n",
       "      <td>10473.0</td>\n",
       "      <td>10473.0</td>\n",
       "      <td>Half And Half Cream</td>\n",
       "      <td>53.0</td>\n",
       "      <td>16.0</td>\n",
       "      <td>7.0</td>\n",
       "      <td>505689.0</td>\n",
       "      <td>138</td>\n",
       "      <td>9.0</td>\n",
       "      <td>6.0</td>\n",
       "      <td>...</td>\n",
       "      <td>Low spender</td>\n",
       "      <td>10.4</td>\n",
       "      <td>Regular customer</td>\n",
       "      <td>Male</td>\n",
       "      <td>Minnesota</td>\n",
       "      <td>81</td>\n",
       "      <td>8/1/2019</td>\n",
       "      <td>1</td>\n",
       "      <td>married</td>\n",
       "      <td>49620</td>\n",
       "    </tr>\n",
       "    <tr>\n",
       "      <th>19</th>\n",
       "      <td>10473.0</td>\n",
       "      <td>10473.0</td>\n",
       "      <td>Half And Half Cream</td>\n",
       "      <td>53.0</td>\n",
       "      <td>16.0</td>\n",
       "      <td>7.0</td>\n",
       "      <td>2526903.0</td>\n",
       "      <td>138</td>\n",
       "      <td>14.0</td>\n",
       "      <td>0.0</td>\n",
       "      <td>...</td>\n",
       "      <td>Low spender</td>\n",
       "      <td>10.4</td>\n",
       "      <td>Regular customer</td>\n",
       "      <td>Male</td>\n",
       "      <td>Minnesota</td>\n",
       "      <td>81</td>\n",
       "      <td>8/1/2019</td>\n",
       "      <td>1</td>\n",
       "      <td>married</td>\n",
       "      <td>49620</td>\n",
       "    </tr>\n",
       "    <tr>\n",
       "      <th>20</th>\n",
       "      <td>10473.0</td>\n",
       "      <td>10473.0</td>\n",
       "      <td>Half And Half Cream</td>\n",
       "      <td>53.0</td>\n",
       "      <td>16.0</td>\n",
       "      <td>7.0</td>\n",
       "      <td>1593782.0</td>\n",
       "      <td>138</td>\n",
       "      <td>15.0</td>\n",
       "      <td>6.0</td>\n",
       "      <td>...</td>\n",
       "      <td>Low spender</td>\n",
       "      <td>10.4</td>\n",
       "      <td>Regular customer</td>\n",
       "      <td>Male</td>\n",
       "      <td>Minnesota</td>\n",
       "      <td>81</td>\n",
       "      <td>8/1/2019</td>\n",
       "      <td>1</td>\n",
       "      <td>married</td>\n",
       "      <td>49620</td>\n",
       "    </tr>\n",
       "    <tr>\n",
       "      <th>21</th>\n",
       "      <td>10473.0</td>\n",
       "      <td>10473.0</td>\n",
       "      <td>Half And Half Cream</td>\n",
       "      <td>53.0</td>\n",
       "      <td>16.0</td>\n",
       "      <td>7.0</td>\n",
       "      <td>307762.0</td>\n",
       "      <td>138</td>\n",
       "      <td>16.0</td>\n",
       "      <td>0.0</td>\n",
       "      <td>...</td>\n",
       "      <td>Low spender</td>\n",
       "      <td>10.4</td>\n",
       "      <td>Regular customer</td>\n",
       "      <td>Male</td>\n",
       "      <td>Minnesota</td>\n",
       "      <td>81</td>\n",
       "      <td>8/1/2019</td>\n",
       "      <td>1</td>\n",
       "      <td>married</td>\n",
       "      <td>49620</td>\n",
       "    </tr>\n",
       "    <tr>\n",
       "      <th>22</th>\n",
       "      <td>10473.0</td>\n",
       "      <td>10473.0</td>\n",
       "      <td>Half And Half Cream</td>\n",
       "      <td>53.0</td>\n",
       "      <td>16.0</td>\n",
       "      <td>7.0</td>\n",
       "      <td>960220.0</td>\n",
       "      <td>138</td>\n",
       "      <td>17.0</td>\n",
       "      <td>5.0</td>\n",
       "      <td>...</td>\n",
       "      <td>Low spender</td>\n",
       "      <td>10.4</td>\n",
       "      <td>Regular customer</td>\n",
       "      <td>Male</td>\n",
       "      <td>Minnesota</td>\n",
       "      <td>81</td>\n",
       "      <td>8/1/2019</td>\n",
       "      <td>1</td>\n",
       "      <td>married</td>\n",
       "      <td>49620</td>\n",
       "    </tr>\n",
       "    <tr>\n",
       "      <th>23</th>\n",
       "      <td>10473.0</td>\n",
       "      <td>10473.0</td>\n",
       "      <td>Half And Half Cream</td>\n",
       "      <td>53.0</td>\n",
       "      <td>16.0</td>\n",
       "      <td>7.0</td>\n",
       "      <td>1972635.0</td>\n",
       "      <td>138</td>\n",
       "      <td>20.0</td>\n",
       "      <td>6.0</td>\n",
       "      <td>...</td>\n",
       "      <td>Low spender</td>\n",
       "      <td>10.4</td>\n",
       "      <td>Regular customer</td>\n",
       "      <td>Male</td>\n",
       "      <td>Minnesota</td>\n",
       "      <td>81</td>\n",
       "      <td>8/1/2019</td>\n",
       "      <td>1</td>\n",
       "      <td>married</td>\n",
       "      <td>49620</td>\n",
       "    </tr>\n",
       "    <tr>\n",
       "      <th>24</th>\n",
       "      <td>10473.0</td>\n",
       "      <td>10473.0</td>\n",
       "      <td>Half And Half Cream</td>\n",
       "      <td>53.0</td>\n",
       "      <td>16.0</td>\n",
       "      <td>7.0</td>\n",
       "      <td>1512043.0</td>\n",
       "      <td>138</td>\n",
       "      <td>21.0</td>\n",
       "      <td>0.0</td>\n",
       "      <td>...</td>\n",
       "      <td>Low spender</td>\n",
       "      <td>10.4</td>\n",
       "      <td>Regular customer</td>\n",
       "      <td>Male</td>\n",
       "      <td>Minnesota</td>\n",
       "      <td>81</td>\n",
       "      <td>8/1/2019</td>\n",
       "      <td>1</td>\n",
       "      <td>married</td>\n",
       "      <td>49620</td>\n",
       "    </tr>\n",
       "  </tbody>\n",
       "</table>\n",
       "<p>25 rows × 33 columns</p>\n",
       "</div>"
      ],
      "text/plain": [
       "    Unnamed: 0  product_id                    product_name  aisle_id  \\\n",
       "0          0.0         1.0      Chocolate Sandwich Cookies      61.0   \n",
       "1          0.0         1.0      Chocolate Sandwich Cookies      61.0   \n",
       "2        907.0       907.0            Premium Sliced Bacon     106.0   \n",
       "3       1000.0      1000.0                        Apricots      18.0   \n",
       "4       3265.0      3265.0   Mini Seedless Watermelon Pack      32.0   \n",
       "5       4913.0      4913.0            Table Water Crackers      78.0   \n",
       "6       6184.0      6184.0                     Clementines      32.0   \n",
       "7       6901.0      6901.0                     Raisin Bran     121.0   \n",
       "8       7147.0      7147.0  Classic Baby Creamers Potatoes      83.0   \n",
       "9       7987.0      7987.0      Hazelnut Spread with Cocoa      88.0   \n",
       "10      8048.0      8048.0         Packaged Grape Tomatoes      32.0   \n",
       "11      8048.0      8048.0         Packaged Grape Tomatoes      32.0   \n",
       "12     10473.0     10473.0             Half And Half Cream      53.0   \n",
       "13     10473.0     10473.0             Half And Half Cream      53.0   \n",
       "14     10473.0     10473.0             Half And Half Cream      53.0   \n",
       "15     10473.0     10473.0             Half And Half Cream      53.0   \n",
       "16     10473.0     10473.0             Half And Half Cream      53.0   \n",
       "17     10473.0     10473.0             Half And Half Cream      53.0   \n",
       "18     10473.0     10473.0             Half And Half Cream      53.0   \n",
       "19     10473.0     10473.0             Half And Half Cream      53.0   \n",
       "20     10473.0     10473.0             Half And Half Cream      53.0   \n",
       "21     10473.0     10473.0             Half And Half Cream      53.0   \n",
       "22     10473.0     10473.0             Half And Half Cream      53.0   \n",
       "23     10473.0     10473.0             Half And Half Cream      53.0   \n",
       "24     10473.0     10473.0             Half And Half Cream      53.0   \n",
       "\n",
       "    department_id  prices   order_id  user_id  order_number  \\\n",
       "0            19.0     5.8  3139998.0      138          28.0   \n",
       "1            19.0     5.8  1977647.0      138          30.0   \n",
       "2            12.0    20.0  2254091.0      138          10.0   \n",
       "3            10.0    12.9   505689.0      138           9.0   \n",
       "4             4.0     1.7   960220.0      138          17.0   \n",
       "5            19.0     4.4   894221.0      138          23.0   \n",
       "6             4.0     4.3  1977647.0      138          30.0   \n",
       "7            14.0     2.9  1154289.0      138          18.0   \n",
       "8             4.0     9.0   930730.0      138           2.0   \n",
       "9            13.0    12.8  1592314.0      138           5.0   \n",
       "10            4.0    11.4   930730.0      138           2.0   \n",
       "11            4.0    11.4  1421595.0      138           3.0   \n",
       "12           16.0     7.0   930730.0      138           2.0   \n",
       "13           16.0     7.0  1421595.0      138           3.0   \n",
       "14           16.0     7.0  1592314.0      138           5.0   \n",
       "15           16.0     7.0  3052988.0      138           6.0   \n",
       "16           16.0     7.0  1986630.0      138           7.0   \n",
       "17           16.0     7.0  2823056.0      138           8.0   \n",
       "18           16.0     7.0   505689.0      138           9.0   \n",
       "19           16.0     7.0  2526903.0      138          14.0   \n",
       "20           16.0     7.0  1593782.0      138          15.0   \n",
       "21           16.0     7.0   307762.0      138          16.0   \n",
       "22           16.0     7.0   960220.0      138          17.0   \n",
       "23           16.0     7.0  1972635.0      138          20.0   \n",
       "24           16.0     7.0  1512043.0      138          21.0   \n",
       "\n",
       "    orders_day_of_week  ...  spending_flag  prior_orders    frequency_flag  \\\n",
       "0                  6.0  ...    Low spender          10.4  Regular customer   \n",
       "1                  6.0  ...    Low spender          10.4  Regular customer   \n",
       "2                  5.0  ...    Low spender          10.4  Regular customer   \n",
       "3                  6.0  ...    Low spender          10.4  Regular customer   \n",
       "4                  5.0  ...    Low spender          10.4  Regular customer   \n",
       "5                  5.0  ...    Low spender          10.4  Regular customer   \n",
       "6                  6.0  ...    Low spender          10.4  Regular customer   \n",
       "7                  1.0  ...    Low spender          10.4  Regular customer   \n",
       "8                  0.0  ...    Low spender          10.4  Regular customer   \n",
       "9                  0.0  ...    Low spender          10.4  Regular customer   \n",
       "10                 0.0  ...    Low spender          10.4  Regular customer   \n",
       "11                 2.0  ...    Low spender          10.4  Regular customer   \n",
       "12                 0.0  ...    Low spender          10.4  Regular customer   \n",
       "13                 2.0  ...    Low spender          10.4  Regular customer   \n",
       "14                 0.0  ...    Low spender          10.4  Regular customer   \n",
       "15                 0.0  ...    Low spender          10.4  Regular customer   \n",
       "16                 0.0  ...    Low spender          10.4  Regular customer   \n",
       "17                 6.0  ...    Low spender          10.4  Regular customer   \n",
       "18                 6.0  ...    Low spender          10.4  Regular customer   \n",
       "19                 0.0  ...    Low spender          10.4  Regular customer   \n",
       "20                 6.0  ...    Low spender          10.4  Regular customer   \n",
       "21                 0.0  ...    Low spender          10.4  Regular customer   \n",
       "22                 5.0  ...    Low spender          10.4  Regular customer   \n",
       "23                 6.0  ...    Low spender          10.4  Regular customer   \n",
       "24                 0.0  ...    Low spender          10.4  Regular customer   \n",
       "\n",
       "    gender      state age date_joined number_dependants family_status income  \n",
       "0     Male  Minnesota  81    8/1/2019                 1       married  49620  \n",
       "1     Male  Minnesota  81    8/1/2019                 1       married  49620  \n",
       "2     Male  Minnesota  81    8/1/2019                 1       married  49620  \n",
       "3     Male  Minnesota  81    8/1/2019                 1       married  49620  \n",
       "4     Male  Minnesota  81    8/1/2019                 1       married  49620  \n",
       "5     Male  Minnesota  81    8/1/2019                 1       married  49620  \n",
       "6     Male  Minnesota  81    8/1/2019                 1       married  49620  \n",
       "7     Male  Minnesota  81    8/1/2019                 1       married  49620  \n",
       "8     Male  Minnesota  81    8/1/2019                 1       married  49620  \n",
       "9     Male  Minnesota  81    8/1/2019                 1       married  49620  \n",
       "10    Male  Minnesota  81    8/1/2019                 1       married  49620  \n",
       "11    Male  Minnesota  81    8/1/2019                 1       married  49620  \n",
       "12    Male  Minnesota  81    8/1/2019                 1       married  49620  \n",
       "13    Male  Minnesota  81    8/1/2019                 1       married  49620  \n",
       "14    Male  Minnesota  81    8/1/2019                 1       married  49620  \n",
       "15    Male  Minnesota  81    8/1/2019                 1       married  49620  \n",
       "16    Male  Minnesota  81    8/1/2019                 1       married  49620  \n",
       "17    Male  Minnesota  81    8/1/2019                 1       married  49620  \n",
       "18    Male  Minnesota  81    8/1/2019                 1       married  49620  \n",
       "19    Male  Minnesota  81    8/1/2019                 1       married  49620  \n",
       "20    Male  Minnesota  81    8/1/2019                 1       married  49620  \n",
       "21    Male  Minnesota  81    8/1/2019                 1       married  49620  \n",
       "22    Male  Minnesota  81    8/1/2019                 1       married  49620  \n",
       "23    Male  Minnesota  81    8/1/2019                 1       married  49620  \n",
       "24    Male  Minnesota  81    8/1/2019                 1       married  49620  \n",
       "\n",
       "[25 rows x 33 columns]"
      ]
     },
     "execution_count": 108,
     "metadata": {},
     "output_type": "execute_result"
    }
   ],
   "source": [
    "new_customer_data.head(25)"
   ]
  },
  {
   "cell_type": "markdown",
   "id": "e27bf4f2",
   "metadata": {},
   "source": [
    "# 3. Creating a regional segmentation of the data"
   ]
  },
  {
   "cell_type": "code",
   "execution_count": 110,
   "id": "a8c1485b",
   "metadata": {},
   "outputs": [],
   "source": [
    "#Regions\n",
    "west = ['Idaho', 'Montana', 'Wyoming', 'Nevada', 'Utah', 'Colorado', 'Arizona', 'New Mexico', 'Alaska', 'Washington', 'Oregon','California', 'Hawaii']\n",
    "south = ['Delaware', 'Maryland', 'District of Columbia', 'Virginia', 'West Virginia', 'North Carolina', 'South Carolina', 'Georgia', 'Florida', 'Kentucky', 'Tennessee', 'Mississippi', 'Alabama', 'Oklahoma', 'Texas', 'Arkansas', 'Lousiana']\n",
    "midwest = ['Wisconsi', 'Michigan', 'Illinois', 'Indiana', 'Indiana', ' Ohio', 'North Dakota', 'South Dakota', 'Nebraska', 'Kansas', 'Minnesota', ' Iowa', 'Missouri']\n",
    "northeast = ['Maine', 'New Hampshire', 'Vermont', 'Massachusetts', 'Rhode Island', 'Connecticut', 'New York', 'Pennsylvania', 'New Jersey']"
   ]
  },
  {
   "cell_type": "code",
   "execution_count": 111,
   "id": "fbed6762",
   "metadata": {},
   "outputs": [],
   "source": [
    "#State Regions\n",
    "new_customer_data.loc[new_customer_data['state'].isin(west), 'region'] = 'West'\n",
    "new_customer_data.loc[new_customer_data['state'].isin(south), 'region'] = 'South'\n",
    "new_customer_data.loc[new_customer_data['state'].isin(midwest), 'region'] = 'Midwest'\n",
    "new_customer_data.loc[new_customer_data['state'].isin(northeast), 'region'] = 'Northeast'"
   ]
  },
  {
   "cell_type": "code",
   "execution_count": 112,
   "id": "d39bed1e",
   "metadata": {},
   "outputs": [
    {
     "data": {
      "text/plain": [
       "South        9503441\n",
       "West         7765088\n",
       "Northeast    5356272\n",
       "Midwest      5347668\n",
       "NaN          2356295\n",
       "Name: region, dtype: int64"
      ]
     },
     "execution_count": 112,
     "metadata": {},
     "output_type": "execute_result"
    }
   ],
   "source": [
    "new_customer_data['region'].value_counts(dropna = False)"
   ]
  },
  {
   "cell_type": "code",
   "execution_count": 113,
   "id": "91602717",
   "metadata": {},
   "outputs": [],
   "source": [
    "#Checking specific habits with crosstab\n",
    "crosstab = pd.crosstab(new_customer_data['region'], new_customer_data['spending_flag'], dropna = False)"
   ]
  },
  {
   "cell_type": "code",
   "execution_count": 114,
   "id": "c1d74814",
   "metadata": {},
   "outputs": [
    {
     "data": {
      "text/html": [
       "<div>\n",
       "<style scoped>\n",
       "    .dataframe tbody tr th:only-of-type {\n",
       "        vertical-align: middle;\n",
       "    }\n",
       "\n",
       "    .dataframe tbody tr th {\n",
       "        vertical-align: top;\n",
       "    }\n",
       "\n",
       "    .dataframe thead th {\n",
       "        text-align: right;\n",
       "    }\n",
       "</style>\n",
       "<table border=\"1\" class=\"dataframe\">\n",
       "  <thead>\n",
       "    <tr style=\"text-align: right;\">\n",
       "      <th>spending_flag</th>\n",
       "      <th>High spender</th>\n",
       "      <th>Low spender</th>\n",
       "    </tr>\n",
       "    <tr>\n",
       "      <th>region</th>\n",
       "      <th></th>\n",
       "      <th></th>\n",
       "    </tr>\n",
       "  </thead>\n",
       "  <tbody>\n",
       "    <tr>\n",
       "      <th>Midwest</th>\n",
       "      <td>111742</td>\n",
       "      <td>5235926</td>\n",
       "    </tr>\n",
       "    <tr>\n",
       "      <th>Northeast</th>\n",
       "      <td>102905</td>\n",
       "      <td>5253367</td>\n",
       "    </tr>\n",
       "    <tr>\n",
       "      <th>South</th>\n",
       "      <td>187852</td>\n",
       "      <td>9315588</td>\n",
       "    </tr>\n",
       "    <tr>\n",
       "      <th>West</th>\n",
       "      <td>149922</td>\n",
       "      <td>7615166</td>\n",
       "    </tr>\n",
       "  </tbody>\n",
       "</table>\n",
       "</div>"
      ],
      "text/plain": [
       "spending_flag  High spender  Low spender\n",
       "region                                  \n",
       "Midwest              111742      5235926\n",
       "Northeast            102905      5253367\n",
       "South                187852      9315588\n",
       "West                 149922      7615166"
      ]
     },
     "execution_count": 114,
     "metadata": {},
     "output_type": "execute_result"
    }
   ],
   "source": [
    "crosstab"
   ]
  },
  {
   "cell_type": "markdown",
   "id": "3b853f50",
   "metadata": {},
   "source": [
    "The South has the greatest number of 'High Spending' customers, while the Northeast has the lowest."
   ]
  },
  {
   "cell_type": "markdown",
   "id": "6e3391d6",
   "metadata": {},
   "source": [
    "# 4. Creating exclusion flag for low-activity customers"
   ]
  },
  {
   "cell_type": "code",
   "execution_count": 10,
   "id": "cfd6241f",
   "metadata": {},
   "outputs": [
    {
     "data": {
      "text/html": [
       "<div>\n",
       "<style scoped>\n",
       "    .dataframe tbody tr th:only-of-type {\n",
       "        vertical-align: middle;\n",
       "    }\n",
       "\n",
       "    .dataframe tbody tr th {\n",
       "        vertical-align: top;\n",
       "    }\n",
       "\n",
       "    .dataframe thead th {\n",
       "        text-align: right;\n",
       "    }\n",
       "</style>\n",
       "<table border=\"1\" class=\"dataframe\">\n",
       "  <thead>\n",
       "    <tr style=\"text-align: right;\">\n",
       "      <th></th>\n",
       "      <th>Unnamed: 0</th>\n",
       "      <th>product_id</th>\n",
       "      <th>aisle_id</th>\n",
       "      <th>department_id</th>\n",
       "      <th>prices</th>\n",
       "      <th>order_id</th>\n",
       "      <th>user_id</th>\n",
       "      <th>order_number</th>\n",
       "      <th>orders_day_of_week</th>\n",
       "      <th>order_hour_of_day</th>\n",
       "      <th>days_since_prior_order</th>\n",
       "      <th>add_to_cart_order</th>\n",
       "      <th>reordered</th>\n",
       "      <th>max_order</th>\n",
       "      <th>average_price</th>\n",
       "      <th>prior_orders</th>\n",
       "      <th>age</th>\n",
       "      <th>number_dependants</th>\n",
       "      <th>income</th>\n",
       "    </tr>\n",
       "  </thead>\n",
       "  <tbody>\n",
       "    <tr>\n",
       "      <th>count</th>\n",
       "      <td>3.032876e+07</td>\n",
       "      <td>3.032876e+07</td>\n",
       "      <td>3.032876e+07</td>\n",
       "      <td>3.032876e+07</td>\n",
       "      <td>3.032876e+07</td>\n",
       "      <td>3.032876e+07</td>\n",
       "      <td>3.032876e+07</td>\n",
       "      <td>3.032876e+07</td>\n",
       "      <td>3.032876e+07</td>\n",
       "      <td>3.032876e+07</td>\n",
       "      <td>3.032876e+07</td>\n",
       "      <td>3.032876e+07</td>\n",
       "      <td>3.032876e+07</td>\n",
       "      <td>3.032876e+07</td>\n",
       "      <td>3.032876e+07</td>\n",
       "      <td>3.032876e+07</td>\n",
       "      <td>3.032876e+07</td>\n",
       "      <td>3.032876e+07</td>\n",
       "      <td>3.032876e+07</td>\n",
       "    </tr>\n",
       "    <tr>\n",
       "      <th>mean</th>\n",
       "      <td>2.559820e+04</td>\n",
       "      <td>2.559649e+04</td>\n",
       "      <td>7.119183e+01</td>\n",
       "      <td>9.922036e+00</td>\n",
       "      <td>1.197725e+01</td>\n",
       "      <td>1.710734e+06</td>\n",
       "      <td>1.029339e+05</td>\n",
       "      <td>1.824729e+01</td>\n",
       "      <td>2.740832e+00</td>\n",
       "      <td>1.341142e+01</td>\n",
       "      <td>1.110408e+01</td>\n",
       "      <td>8.355623e+00</td>\n",
       "      <td>6.299463e-01</td>\n",
       "      <td>3.420208e+01</td>\n",
       "      <td>1.197725e+01</td>\n",
       "      <td>1.110408e+01</td>\n",
       "      <td>4.946447e+01</td>\n",
       "      <td>1.501960e+00</td>\n",
       "      <td>9.954015e+04</td>\n",
       "    </tr>\n",
       "    <tr>\n",
       "      <th>std</th>\n",
       "      <td>1.408344e+04</td>\n",
       "      <td>1.408189e+04</td>\n",
       "      <td>3.821413e+01</td>\n",
       "      <td>6.281967e+00</td>\n",
       "      <td>4.963730e+02</td>\n",
       "      <td>9.872433e+05</td>\n",
       "      <td>5.946847e+04</td>\n",
       "      <td>1.759198e+01</td>\n",
       "      <td>2.087951e+00</td>\n",
       "      <td>4.246834e+00</td>\n",
       "      <td>8.779064e+00</td>\n",
       "      <td>7.133935e+00</td>\n",
       "      <td>4.828188e-01</td>\n",
       "      <td>2.521129e+01</td>\n",
       "      <td>8.429401e+01</td>\n",
       "      <td>5.884318e+00</td>\n",
       "      <td>1.848533e+01</td>\n",
       "      <td>1.118932e+00</td>\n",
       "      <td>4.310834e+04</td>\n",
       "    </tr>\n",
       "    <tr>\n",
       "      <th>min</th>\n",
       "      <td>0.000000e+00</td>\n",
       "      <td>1.000000e+00</td>\n",
       "      <td>1.000000e+00</td>\n",
       "      <td>1.000000e+00</td>\n",
       "      <td>1.000000e+00</td>\n",
       "      <td>2.000000e+00</td>\n",
       "      <td>1.000000e+00</td>\n",
       "      <td>2.000000e+00</td>\n",
       "      <td>0.000000e+00</td>\n",
       "      <td>0.000000e+00</td>\n",
       "      <td>0.000000e+00</td>\n",
       "      <td>1.000000e+00</td>\n",
       "      <td>0.000000e+00</td>\n",
       "      <td>2.000000e+00</td>\n",
       "      <td>1.000000e+00</td>\n",
       "      <td>0.000000e+00</td>\n",
       "      <td>1.800000e+01</td>\n",
       "      <td>0.000000e+00</td>\n",
       "      <td>2.590300e+04</td>\n",
       "    </tr>\n",
       "    <tr>\n",
       "      <th>25%</th>\n",
       "      <td>1.354100e+04</td>\n",
       "      <td>1.354100e+04</td>\n",
       "      <td>3.100000e+01</td>\n",
       "      <td>4.000000e+00</td>\n",
       "      <td>4.200000e+00</td>\n",
       "      <td>8.561425e+05</td>\n",
       "      <td>5.140900e+04</td>\n",
       "      <td>6.000000e+00</td>\n",
       "      <td>1.000000e+00</td>\n",
       "      <td>1.000000e+01</td>\n",
       "      <td>5.000000e+00</td>\n",
       "      <td>3.000000e+00</td>\n",
       "      <td>0.000000e+00</td>\n",
       "      <td>1.400000e+01</td>\n",
       "      <td>7.385366e+00</td>\n",
       "      <td>6.752252e+00</td>\n",
       "      <td>3.300000e+01</td>\n",
       "      <td>1.000000e+00</td>\n",
       "      <td>6.712900e+04</td>\n",
       "    </tr>\n",
       "    <tr>\n",
       "      <th>50%</th>\n",
       "      <td>2.527300e+04</td>\n",
       "      <td>2.527200e+04</td>\n",
       "      <td>8.300000e+01</td>\n",
       "      <td>9.000000e+00</td>\n",
       "      <td>7.400000e+00</td>\n",
       "      <td>1.710898e+06</td>\n",
       "      <td>1.025990e+05</td>\n",
       "      <td>1.200000e+01</td>\n",
       "      <td>3.000000e+00</td>\n",
       "      <td>1.300000e+01</td>\n",
       "      <td>8.000000e+00</td>\n",
       "      <td>6.000000e+00</td>\n",
       "      <td>1.000000e+00</td>\n",
       "      <td>2.800000e+01</td>\n",
       "      <td>7.825526e+00</td>\n",
       "      <td>9.652174e+00</td>\n",
       "      <td>4.900000e+01</td>\n",
       "      <td>2.000000e+00</td>\n",
       "      <td>9.666500e+04</td>\n",
       "    </tr>\n",
       "    <tr>\n",
       "      <th>75%</th>\n",
       "      <td>3.795100e+04</td>\n",
       "      <td>3.794700e+04</td>\n",
       "      <td>1.070000e+02</td>\n",
       "      <td>1.600000e+01</td>\n",
       "      <td>1.130000e+01</td>\n",
       "      <td>2.565509e+06</td>\n",
       "      <td>1.543850e+05</td>\n",
       "      <td>2.500000e+01</td>\n",
       "      <td>5.000000e+00</td>\n",
       "      <td>1.600000e+01</td>\n",
       "      <td>1.500000e+01</td>\n",
       "      <td>1.100000e+01</td>\n",
       "      <td>1.000000e+00</td>\n",
       "      <td>4.800000e+01</td>\n",
       "      <td>8.257932e+00</td>\n",
       "      <td>1.444417e+01</td>\n",
       "      <td>6.500000e+01</td>\n",
       "      <td>3.000000e+00</td>\n",
       "      <td>1.279650e+05</td>\n",
       "    </tr>\n",
       "    <tr>\n",
       "      <th>max</th>\n",
       "      <td>4.969200e+04</td>\n",
       "      <td>4.968800e+04</td>\n",
       "      <td>1.340000e+02</td>\n",
       "      <td>2.100000e+01</td>\n",
       "      <td>9.999900e+04</td>\n",
       "      <td>3.421083e+06</td>\n",
       "      <td>2.062090e+05</td>\n",
       "      <td>9.900000e+01</td>\n",
       "      <td>6.000000e+00</td>\n",
       "      <td>2.300000e+01</td>\n",
       "      <td>3.000000e+01</td>\n",
       "      <td>1.450000e+02</td>\n",
       "      <td>1.000000e+00</td>\n",
       "      <td>9.900000e+01</td>\n",
       "      <td>3.333903e+04</td>\n",
       "      <td>3.000000e+01</td>\n",
       "      <td>8.100000e+01</td>\n",
       "      <td>3.000000e+00</td>\n",
       "      <td>5.939010e+05</td>\n",
       "    </tr>\n",
       "  </tbody>\n",
       "</table>\n",
       "</div>"
      ],
      "text/plain": [
       "         Unnamed: 0    product_id      aisle_id  department_id        prices  \\\n",
       "count  3.032876e+07  3.032876e+07  3.032876e+07   3.032876e+07  3.032876e+07   \n",
       "mean   2.559820e+04  2.559649e+04  7.119183e+01   9.922036e+00  1.197725e+01   \n",
       "std    1.408344e+04  1.408189e+04  3.821413e+01   6.281967e+00  4.963730e+02   \n",
       "min    0.000000e+00  1.000000e+00  1.000000e+00   1.000000e+00  1.000000e+00   \n",
       "25%    1.354100e+04  1.354100e+04  3.100000e+01   4.000000e+00  4.200000e+00   \n",
       "50%    2.527300e+04  2.527200e+04  8.300000e+01   9.000000e+00  7.400000e+00   \n",
       "75%    3.795100e+04  3.794700e+04  1.070000e+02   1.600000e+01  1.130000e+01   \n",
       "max    4.969200e+04  4.968800e+04  1.340000e+02   2.100000e+01  9.999900e+04   \n",
       "\n",
       "           order_id       user_id  order_number  orders_day_of_week  \\\n",
       "count  3.032876e+07  3.032876e+07  3.032876e+07        3.032876e+07   \n",
       "mean   1.710734e+06  1.029339e+05  1.824729e+01        2.740832e+00   \n",
       "std    9.872433e+05  5.946847e+04  1.759198e+01        2.087951e+00   \n",
       "min    2.000000e+00  1.000000e+00  2.000000e+00        0.000000e+00   \n",
       "25%    8.561425e+05  5.140900e+04  6.000000e+00        1.000000e+00   \n",
       "50%    1.710898e+06  1.025990e+05  1.200000e+01        3.000000e+00   \n",
       "75%    2.565509e+06  1.543850e+05  2.500000e+01        5.000000e+00   \n",
       "max    3.421083e+06  2.062090e+05  9.900000e+01        6.000000e+00   \n",
       "\n",
       "       order_hour_of_day  days_since_prior_order  add_to_cart_order  \\\n",
       "count       3.032876e+07            3.032876e+07       3.032876e+07   \n",
       "mean        1.341142e+01            1.110408e+01       8.355623e+00   \n",
       "std         4.246834e+00            8.779064e+00       7.133935e+00   \n",
       "min         0.000000e+00            0.000000e+00       1.000000e+00   \n",
       "25%         1.000000e+01            5.000000e+00       3.000000e+00   \n",
       "50%         1.300000e+01            8.000000e+00       6.000000e+00   \n",
       "75%         1.600000e+01            1.500000e+01       1.100000e+01   \n",
       "max         2.300000e+01            3.000000e+01       1.450000e+02   \n",
       "\n",
       "          reordered     max_order  average_price  prior_orders           age  \\\n",
       "count  3.032876e+07  3.032876e+07   3.032876e+07  3.032876e+07  3.032876e+07   \n",
       "mean   6.299463e-01  3.420208e+01   1.197725e+01  1.110408e+01  4.946447e+01   \n",
       "std    4.828188e-01  2.521129e+01   8.429401e+01  5.884318e+00  1.848533e+01   \n",
       "min    0.000000e+00  2.000000e+00   1.000000e+00  0.000000e+00  1.800000e+01   \n",
       "25%    0.000000e+00  1.400000e+01   7.385366e+00  6.752252e+00  3.300000e+01   \n",
       "50%    1.000000e+00  2.800000e+01   7.825526e+00  9.652174e+00  4.900000e+01   \n",
       "75%    1.000000e+00  4.800000e+01   8.257932e+00  1.444417e+01  6.500000e+01   \n",
       "max    1.000000e+00  9.900000e+01   3.333903e+04  3.000000e+01  8.100000e+01   \n",
       "\n",
       "       number_dependants        income  \n",
       "count       3.032876e+07  3.032876e+07  \n",
       "mean        1.501960e+00  9.954015e+04  \n",
       "std         1.118932e+00  4.310834e+04  \n",
       "min         0.000000e+00  2.590300e+04  \n",
       "25%         1.000000e+00  6.712900e+04  \n",
       "50%         2.000000e+00  9.666500e+04  \n",
       "75%         3.000000e+00  1.279650e+05  \n",
       "max         3.000000e+00  5.939010e+05  "
      ]
     },
     "execution_count": 10,
     "metadata": {},
     "output_type": "execute_result"
    }
   ],
   "source": [
    "new_customer_data.describe()"
   ]
  },
  {
   "cell_type": "code",
   "execution_count": 5,
   "id": "aa3f0772",
   "metadata": {},
   "outputs": [],
   "source": [
    "new_customer_data.loc[new_customer_data['order_number'] < 5, 'customer_revenue_loc'] = 'Low Revenue Customer'\n",
    "new_customer_data.loc[new_customer_data['order_number'] >= 5, 'customer_revenue_loc'] = 'High Revenue Customer'"
   ]
  },
  {
   "cell_type": "code",
   "execution_count": 6,
   "id": "39da8e05",
   "metadata": {},
   "outputs": [
    {
     "data": {
      "text/plain": [
       "High Revenue Customer    24414877\n",
       "Low Revenue Customer      5913886\n",
       "NaN                             1\n",
       "Name: customer_revenue_loc, dtype: int64"
      ]
     },
     "execution_count": 6,
     "metadata": {},
     "output_type": "execute_result"
    }
   ],
   "source": [
    "new_customer_data['customer_revenue_loc'].value_counts(dropna = False)"
   ]
  },
  {
   "cell_type": "code",
   "execution_count": 7,
   "id": "c5852a8d",
   "metadata": {},
   "outputs": [],
   "source": [
    "#Remove Low Revenue Customer \n",
    "final_customer_data = new_customer_data[new_customer_data['customer_revenue_loc'] == 'High Revenue Customer']"
   ]
  },
  {
   "cell_type": "code",
   "execution_count": 8,
   "id": "2c59298e",
   "metadata": {},
   "outputs": [
    {
     "data": {
      "text/plain": [
       "(24414877, 34)"
      ]
     },
     "execution_count": 8,
     "metadata": {},
     "output_type": "execute_result"
    }
   ],
   "source": [
    "final_customer_data.shape"
   ]
  },
  {
   "cell_type": "markdown",
   "id": "6a891fff",
   "metadata": {},
   "source": [
    "# 5. Profiling"
   ]
  },
  {
   "cell_type": "code",
   "execution_count": 9,
   "id": "6c550ea6",
   "metadata": {},
   "outputs": [
    {
     "data": {
      "text/html": [
       "<div>\n",
       "<style scoped>\n",
       "    .dataframe tbody tr th:only-of-type {\n",
       "        vertical-align: middle;\n",
       "    }\n",
       "\n",
       "    .dataframe tbody tr th {\n",
       "        vertical-align: top;\n",
       "    }\n",
       "\n",
       "    .dataframe thead th {\n",
       "        text-align: right;\n",
       "    }\n",
       "</style>\n",
       "<table border=\"1\" class=\"dataframe\">\n",
       "  <thead>\n",
       "    <tr style=\"text-align: right;\">\n",
       "      <th></th>\n",
       "      <th>Unnamed: 0</th>\n",
       "      <th>product_id</th>\n",
       "      <th>product_name</th>\n",
       "      <th>aisle_id</th>\n",
       "      <th>department_id</th>\n",
       "      <th>prices</th>\n",
       "      <th>order_id</th>\n",
       "      <th>user_id</th>\n",
       "      <th>order_number</th>\n",
       "      <th>orders_day_of_week</th>\n",
       "      <th>...</th>\n",
       "      <th>prior_orders</th>\n",
       "      <th>frequency_flag</th>\n",
       "      <th>gender</th>\n",
       "      <th>state</th>\n",
       "      <th>age</th>\n",
       "      <th>date_joined</th>\n",
       "      <th>number_dependants</th>\n",
       "      <th>family_status</th>\n",
       "      <th>income</th>\n",
       "      <th>customer_revenue_loc</th>\n",
       "    </tr>\n",
       "  </thead>\n",
       "  <tbody>\n",
       "    <tr>\n",
       "      <th>0</th>\n",
       "      <td>0.0</td>\n",
       "      <td>1.0</td>\n",
       "      <td>Chocolate Sandwich Cookies</td>\n",
       "      <td>61.0</td>\n",
       "      <td>19.0</td>\n",
       "      <td>5.8</td>\n",
       "      <td>3139998.0</td>\n",
       "      <td>138</td>\n",
       "      <td>28.0</td>\n",
       "      <td>6.0</td>\n",
       "      <td>...</td>\n",
       "      <td>10.4</td>\n",
       "      <td>Regular customer</td>\n",
       "      <td>Male</td>\n",
       "      <td>Minnesota</td>\n",
       "      <td>81</td>\n",
       "      <td>8/1/2019</td>\n",
       "      <td>1</td>\n",
       "      <td>married</td>\n",
       "      <td>49620</td>\n",
       "      <td>High Revenue Customer</td>\n",
       "    </tr>\n",
       "    <tr>\n",
       "      <th>1</th>\n",
       "      <td>0.0</td>\n",
       "      <td>1.0</td>\n",
       "      <td>Chocolate Sandwich Cookies</td>\n",
       "      <td>61.0</td>\n",
       "      <td>19.0</td>\n",
       "      <td>5.8</td>\n",
       "      <td>1977647.0</td>\n",
       "      <td>138</td>\n",
       "      <td>30.0</td>\n",
       "      <td>6.0</td>\n",
       "      <td>...</td>\n",
       "      <td>10.4</td>\n",
       "      <td>Regular customer</td>\n",
       "      <td>Male</td>\n",
       "      <td>Minnesota</td>\n",
       "      <td>81</td>\n",
       "      <td>8/1/2019</td>\n",
       "      <td>1</td>\n",
       "      <td>married</td>\n",
       "      <td>49620</td>\n",
       "      <td>High Revenue Customer</td>\n",
       "    </tr>\n",
       "    <tr>\n",
       "      <th>2</th>\n",
       "      <td>907.0</td>\n",
       "      <td>907.0</td>\n",
       "      <td>Premium Sliced Bacon</td>\n",
       "      <td>106.0</td>\n",
       "      <td>12.0</td>\n",
       "      <td>20.0</td>\n",
       "      <td>2254091.0</td>\n",
       "      <td>138</td>\n",
       "      <td>10.0</td>\n",
       "      <td>5.0</td>\n",
       "      <td>...</td>\n",
       "      <td>10.4</td>\n",
       "      <td>Regular customer</td>\n",
       "      <td>Male</td>\n",
       "      <td>Minnesota</td>\n",
       "      <td>81</td>\n",
       "      <td>8/1/2019</td>\n",
       "      <td>1</td>\n",
       "      <td>married</td>\n",
       "      <td>49620</td>\n",
       "      <td>High Revenue Customer</td>\n",
       "    </tr>\n",
       "    <tr>\n",
       "      <th>3</th>\n",
       "      <td>1000.0</td>\n",
       "      <td>1000.0</td>\n",
       "      <td>Apricots</td>\n",
       "      <td>18.0</td>\n",
       "      <td>10.0</td>\n",
       "      <td>12.9</td>\n",
       "      <td>505689.0</td>\n",
       "      <td>138</td>\n",
       "      <td>9.0</td>\n",
       "      <td>6.0</td>\n",
       "      <td>...</td>\n",
       "      <td>10.4</td>\n",
       "      <td>Regular customer</td>\n",
       "      <td>Male</td>\n",
       "      <td>Minnesota</td>\n",
       "      <td>81</td>\n",
       "      <td>8/1/2019</td>\n",
       "      <td>1</td>\n",
       "      <td>married</td>\n",
       "      <td>49620</td>\n",
       "      <td>High Revenue Customer</td>\n",
       "    </tr>\n",
       "    <tr>\n",
       "      <th>4</th>\n",
       "      <td>3265.0</td>\n",
       "      <td>3265.0</td>\n",
       "      <td>Mini Seedless Watermelon Pack</td>\n",
       "      <td>32.0</td>\n",
       "      <td>4.0</td>\n",
       "      <td>1.7</td>\n",
       "      <td>960220.0</td>\n",
       "      <td>138</td>\n",
       "      <td>17.0</td>\n",
       "      <td>5.0</td>\n",
       "      <td>...</td>\n",
       "      <td>10.4</td>\n",
       "      <td>Regular customer</td>\n",
       "      <td>Male</td>\n",
       "      <td>Minnesota</td>\n",
       "      <td>81</td>\n",
       "      <td>8/1/2019</td>\n",
       "      <td>1</td>\n",
       "      <td>married</td>\n",
       "      <td>49620</td>\n",
       "      <td>High Revenue Customer</td>\n",
       "    </tr>\n",
       "  </tbody>\n",
       "</table>\n",
       "<p>5 rows × 34 columns</p>\n",
       "</div>"
      ],
      "text/plain": [
       "   Unnamed: 0  product_id                   product_name  aisle_id  \\\n",
       "0         0.0         1.0     Chocolate Sandwich Cookies      61.0   \n",
       "1         0.0         1.0     Chocolate Sandwich Cookies      61.0   \n",
       "2       907.0       907.0           Premium Sliced Bacon     106.0   \n",
       "3      1000.0      1000.0                       Apricots      18.0   \n",
       "4      3265.0      3265.0  Mini Seedless Watermelon Pack      32.0   \n",
       "\n",
       "   department_id  prices   order_id  user_id  order_number  \\\n",
       "0           19.0     5.8  3139998.0      138          28.0   \n",
       "1           19.0     5.8  1977647.0      138          30.0   \n",
       "2           12.0    20.0  2254091.0      138          10.0   \n",
       "3           10.0    12.9   505689.0      138           9.0   \n",
       "4            4.0     1.7   960220.0      138          17.0   \n",
       "\n",
       "   orders_day_of_week  ...  prior_orders    frequency_flag  gender      state  \\\n",
       "0                 6.0  ...          10.4  Regular customer    Male  Minnesota   \n",
       "1                 6.0  ...          10.4  Regular customer    Male  Minnesota   \n",
       "2                 5.0  ...          10.4  Regular customer    Male  Minnesota   \n",
       "3                 6.0  ...          10.4  Regular customer    Male  Minnesota   \n",
       "4                 5.0  ...          10.4  Regular customer    Male  Minnesota   \n",
       "\n",
       "  age date_joined number_dependants family_status income  \\\n",
       "0  81    8/1/2019                 1       married  49620   \n",
       "1  81    8/1/2019                 1       married  49620   \n",
       "2  81    8/1/2019                 1       married  49620   \n",
       "3  81    8/1/2019                 1       married  49620   \n",
       "4  81    8/1/2019                 1       married  49620   \n",
       "\n",
       "    customer_revenue_loc  \n",
       "0  High Revenue Customer  \n",
       "1  High Revenue Customer  \n",
       "2  High Revenue Customer  \n",
       "3  High Revenue Customer  \n",
       "4  High Revenue Customer  \n",
       "\n",
       "[5 rows x 34 columns]"
      ]
     },
     "execution_count": 9,
     "metadata": {},
     "output_type": "execute_result"
    }
   ],
   "source": [
    "#Creating Profiles\n",
    "final_customer_data.head()"
   ]
  },
  {
   "cell_type": "code",
   "execution_count": 10,
   "id": "f78531a9",
   "metadata": {},
   "outputs": [
    {
     "name": "stderr",
     "output_type": "stream",
     "text": [
      "/var/folders/8w/y0j0hy213tj11t4fgrr14y1h0000gn/T/ipykernel_2901/4278825748.py:2: SettingWithCopyWarning: \n",
      "A value is trying to be set on a copy of a slice from a DataFrame.\n",
      "Try using .loc[row_indexer,col_indexer] = value instead\n",
      "\n",
      "See the caveats in the documentation: https://pandas.pydata.org/pandas-docs/stable/user_guide/indexing.html#returning-a-view-versus-a-copy\n",
      "  final_customer_data.loc[(final_customer_data['age'] >= 18) & (final_customer_data['age'] < 40), 'age category'] ='Young Adult'\n"
     ]
    }
   ],
   "source": [
    "#Customers Based on Age\n",
    "final_customer_data.loc[(final_customer_data['age'] >= 18) & (final_customer_data['age'] < 40), 'age category'] ='Young Adult'\n",
    "final_customer_data.loc[(final_customer_data['age'] >= 40 ) & (final_customer_data['age'] < 65), 'age category'] = 'Middle Age'\n",
    "final_customer_data.loc[(final_customer_data['age'] >= 65), 'age category'] = 'Senior'"
   ]
  },
  {
   "cell_type": "code",
   "execution_count": 11,
   "id": "1063a566",
   "metadata": {},
   "outputs": [
    {
     "data": {
      "text/plain": [
       "Middle Age     9537452\n",
       "Young Adult    8418975\n",
       "Senior         6458450\n",
       "Name: age category, dtype: int64"
      ]
     },
     "execution_count": 11,
     "metadata": {},
     "output_type": "execute_result"
    }
   ],
   "source": [
    "#Age Categroy Flag\n",
    "final_customer_data['age category'].value_counts(dropna = False)"
   ]
  },
  {
   "cell_type": "code",
   "execution_count": 12,
   "id": "fda0e971",
   "metadata": {},
   "outputs": [
    {
     "data": {
      "text/plain": [
       "count    2.441488e+07\n",
       "mean     9.989505e+04\n",
       "std      4.333357e+04\n",
       "min      2.590300e+04\n",
       "25%      6.752400e+04\n",
       "50%      9.683600e+04\n",
       "75%      1.281600e+05\n",
       "max      5.939010e+05\n",
       "Name: income, dtype: float64"
      ]
     },
     "execution_count": 12,
     "metadata": {},
     "output_type": "execute_result"
    }
   ],
   "source": [
    "#Customers Based on Income \n",
    "final_customer_data['income'].describe()"
   ]
  },
  {
   "cell_type": "code",
   "execution_count": 13,
   "id": "bf42ac4d",
   "metadata": {},
   "outputs": [
    {
     "name": "stderr",
     "output_type": "stream",
     "text": [
      "/var/folders/8w/y0j0hy213tj11t4fgrr14y1h0000gn/T/ipykernel_2901/3090392295.py:2: SettingWithCopyWarning: \n",
      "A value is trying to be set on a copy of a slice from a DataFrame.\n",
      "Try using .loc[row_indexer,col_indexer] = value instead\n",
      "\n",
      "See the caveats in the documentation: https://pandas.pydata.org/pandas-docs/stable/user_guide/indexing.html#returning-a-view-versus-a-copy\n",
      "  final_customer_data.loc[final_customer_data['income']< 70000, 'income_category'] = 'Low'\n"
     ]
    }
   ],
   "source": [
    "#create income category with flag\n",
    "final_customer_data.loc[final_customer_data['income']< 70000, 'income_category'] = 'Low'\n",
    "final_customer_data.loc[(final_customer_data['income']>= 70000) & (final_customer_data['income']< 100000), 'income_category'] = 'Middle'\n",
    "final_customer_data.loc[(final_customer_data['income']>= 100000) & (final_customer_data['income']< 130000), 'income_category'] = 'Upper mid'\n",
    "final_customer_data.loc[final_customer_data['income']>= 130000, 'income_category'] = 'High'"
   ]
  },
  {
   "cell_type": "code",
   "execution_count": 14,
   "id": "cda03684",
   "metadata": {},
   "outputs": [
    {
     "data": {
      "text/plain": [
       "Low          6669836\n",
       "Middle       6519043\n",
       "High         5848408\n",
       "Upper mid    5377590\n",
       "Name: income_category, dtype: int64"
      ]
     },
     "execution_count": 14,
     "metadata": {},
     "output_type": "execute_result"
    }
   ],
   "source": [
    "#Income Category Flag\n",
    "final_customer_data['income_category'].value_counts(dropna = False)"
   ]
  },
  {
   "cell_type": "code",
   "execution_count": 15,
   "id": "01fd3810",
   "metadata": {},
   "outputs": [],
   "source": [
    "#Import Department Data\n",
    "department = pd.read_csv(r'/Users/ronaldcameron/Documents/Data Analytics/Achievement 4 - Python/02:2023 Insta Cart Basket Analysis/Data/Prepared Data/Prepared Datadepartments_wrangled.csv', index_col = False)"
   ]
  },
  {
   "cell_type": "code",
   "execution_count": 16,
   "id": "6f2faadb",
   "metadata": {},
   "outputs": [
    {
     "data": {
      "text/html": [
       "<div>\n",
       "<style scoped>\n",
       "    .dataframe tbody tr th:only-of-type {\n",
       "        vertical-align: middle;\n",
       "    }\n",
       "\n",
       "    .dataframe tbody tr th {\n",
       "        vertical-align: top;\n",
       "    }\n",
       "\n",
       "    .dataframe thead th {\n",
       "        text-align: right;\n",
       "    }\n",
       "</style>\n",
       "<table border=\"1\" class=\"dataframe\">\n",
       "  <thead>\n",
       "    <tr style=\"text-align: right;\">\n",
       "      <th></th>\n",
       "      <th>department_id</th>\n",
       "      <th>department</th>\n",
       "    </tr>\n",
       "  </thead>\n",
       "  <tbody>\n",
       "    <tr>\n",
       "      <th>0</th>\n",
       "      <td>1.0</td>\n",
       "      <td>frozen</td>\n",
       "    </tr>\n",
       "    <tr>\n",
       "      <th>1</th>\n",
       "      <td>2.0</td>\n",
       "      <td>other</td>\n",
       "    </tr>\n",
       "    <tr>\n",
       "      <th>2</th>\n",
       "      <td>3.0</td>\n",
       "      <td>bakery</td>\n",
       "    </tr>\n",
       "    <tr>\n",
       "      <th>3</th>\n",
       "      <td>4.0</td>\n",
       "      <td>produce</td>\n",
       "    </tr>\n",
       "    <tr>\n",
       "      <th>4</th>\n",
       "      <td>5.0</td>\n",
       "      <td>alcohol</td>\n",
       "    </tr>\n",
       "    <tr>\n",
       "      <th>5</th>\n",
       "      <td>6.0</td>\n",
       "      <td>international</td>\n",
       "    </tr>\n",
       "    <tr>\n",
       "      <th>6</th>\n",
       "      <td>7.0</td>\n",
       "      <td>beverages</td>\n",
       "    </tr>\n",
       "    <tr>\n",
       "      <th>7</th>\n",
       "      <td>8.0</td>\n",
       "      <td>pets</td>\n",
       "    </tr>\n",
       "    <tr>\n",
       "      <th>8</th>\n",
       "      <td>9.0</td>\n",
       "      <td>dry goods pasta</td>\n",
       "    </tr>\n",
       "    <tr>\n",
       "      <th>9</th>\n",
       "      <td>10.0</td>\n",
       "      <td>bulk</td>\n",
       "    </tr>\n",
       "    <tr>\n",
       "      <th>10</th>\n",
       "      <td>11.0</td>\n",
       "      <td>personal care</td>\n",
       "    </tr>\n",
       "    <tr>\n",
       "      <th>11</th>\n",
       "      <td>12.0</td>\n",
       "      <td>meat seafood</td>\n",
       "    </tr>\n",
       "    <tr>\n",
       "      <th>12</th>\n",
       "      <td>13.0</td>\n",
       "      <td>pantry</td>\n",
       "    </tr>\n",
       "    <tr>\n",
       "      <th>13</th>\n",
       "      <td>14.0</td>\n",
       "      <td>breakfast</td>\n",
       "    </tr>\n",
       "    <tr>\n",
       "      <th>14</th>\n",
       "      <td>15.0</td>\n",
       "      <td>canned goods</td>\n",
       "    </tr>\n",
       "    <tr>\n",
       "      <th>15</th>\n",
       "      <td>16.0</td>\n",
       "      <td>dairy eggs</td>\n",
       "    </tr>\n",
       "    <tr>\n",
       "      <th>16</th>\n",
       "      <td>17.0</td>\n",
       "      <td>household</td>\n",
       "    </tr>\n",
       "    <tr>\n",
       "      <th>17</th>\n",
       "      <td>18.0</td>\n",
       "      <td>babies</td>\n",
       "    </tr>\n",
       "    <tr>\n",
       "      <th>18</th>\n",
       "      <td>19.0</td>\n",
       "      <td>snacks</td>\n",
       "    </tr>\n",
       "    <tr>\n",
       "      <th>19</th>\n",
       "      <td>20.0</td>\n",
       "      <td>deli</td>\n",
       "    </tr>\n",
       "    <tr>\n",
       "      <th>20</th>\n",
       "      <td>21.0</td>\n",
       "      <td>missing</td>\n",
       "    </tr>\n",
       "  </tbody>\n",
       "</table>\n",
       "</div>"
      ],
      "text/plain": [
       "    department_id       department\n",
       "0             1.0           frozen\n",
       "1             2.0            other\n",
       "2             3.0           bakery\n",
       "3             4.0          produce\n",
       "4             5.0          alcohol\n",
       "5             6.0    international\n",
       "6             7.0        beverages\n",
       "7             8.0             pets\n",
       "8             9.0  dry goods pasta\n",
       "9            10.0             bulk\n",
       "10           11.0    personal care\n",
       "11           12.0     meat seafood\n",
       "12           13.0           pantry\n",
       "13           14.0        breakfast\n",
       "14           15.0     canned goods\n",
       "15           16.0       dairy eggs\n",
       "16           17.0        household\n",
       "17           18.0           babies\n",
       "18           19.0           snacks\n",
       "19           20.0             deli\n",
       "20           21.0          missing"
      ]
     },
     "execution_count": 16,
     "metadata": {},
     "output_type": "execute_result"
    }
   ],
   "source": [
    "department.head(21)"
   ]
  },
  {
   "cell_type": "code",
   "execution_count": 17,
   "id": "8b554897",
   "metadata": {},
   "outputs": [
    {
     "data": {
      "text/plain": [
       "<bound method DataFrame.info of     department_id       department\n",
       "0             1.0           frozen\n",
       "1             2.0            other\n",
       "2             3.0           bakery\n",
       "3             4.0          produce\n",
       "4             5.0          alcohol\n",
       "5             6.0    international\n",
       "6             7.0        beverages\n",
       "7             8.0             pets\n",
       "8             9.0  dry goods pasta\n",
       "9            10.0             bulk\n",
       "10           11.0    personal care\n",
       "11           12.0     meat seafood\n",
       "12           13.0           pantry\n",
       "13           14.0        breakfast\n",
       "14           15.0     canned goods\n",
       "15           16.0       dairy eggs\n",
       "16           17.0        household\n",
       "17           18.0           babies\n",
       "18           19.0           snacks\n",
       "19           20.0             deli\n",
       "20           21.0          missing>"
      ]
     },
     "execution_count": 17,
     "metadata": {},
     "output_type": "execute_result"
    }
   ],
   "source": [
    "department.info"
   ]
  },
  {
   "cell_type": "code",
   "execution_count": 18,
   "id": "54d2cb9f",
   "metadata": {},
   "outputs": [
    {
     "data": {
      "text/plain": [
       "0      19.0\n",
       "1      19.0\n",
       "2      12.0\n",
       "3      10.0\n",
       "4       4.0\n",
       "       ... \n",
       "107     7.0\n",
       "108     4.0\n",
       "109    19.0\n",
       "110    19.0\n",
       "111    19.0\n",
       "Name: department_id, Length: 100, dtype: float64"
      ]
     },
     "execution_count": 18,
     "metadata": {},
     "output_type": "execute_result"
    }
   ],
   "source": [
    "final_customer_data['department_id'].head(100)"
   ]
  },
  {
   "cell_type": "code",
   "execution_count": 20,
   "id": "d56f7f92",
   "metadata": {},
   "outputs": [],
   "source": [
    "#create a department dictionary\n",
    "department_map=dict(zip(department[\"department_id\"], department[\"department\"]))"
   ]
  },
  {
   "cell_type": "code",
   "execution_count": 21,
   "id": "ccd8b305",
   "metadata": {},
   "outputs": [
    {
     "data": {
      "text/plain": [
       "{1.0: 'frozen',\n",
       " 2.0: 'other',\n",
       " 3.0: 'bakery',\n",
       " 4.0: 'produce',\n",
       " 5.0: 'alcohol',\n",
       " 6.0: 'international',\n",
       " 7.0: 'beverages',\n",
       " 8.0: 'pets',\n",
       " 9.0: 'dry goods pasta',\n",
       " 10.0: 'bulk',\n",
       " 11.0: 'personal care',\n",
       " 12.0: 'meat seafood',\n",
       " 13.0: 'pantry',\n",
       " 14.0: 'breakfast',\n",
       " 15.0: 'canned goods',\n",
       " 16.0: 'dairy eggs',\n",
       " 17.0: 'household',\n",
       " 18.0: 'babies',\n",
       " 19.0: 'snacks',\n",
       " 20.0: 'deli',\n",
       " 21.0: 'missing'}"
      ]
     },
     "execution_count": 21,
     "metadata": {},
     "output_type": "execute_result"
    }
   ],
   "source": [
    "department_map"
   ]
  },
  {
   "cell_type": "code",
   "execution_count": 22,
   "id": "f0da6ba8",
   "metadata": {},
   "outputs": [
    {
     "name": "stderr",
     "output_type": "stream",
     "text": [
      "/var/folders/8w/y0j0hy213tj11t4fgrr14y1h0000gn/T/ipykernel_2901/3280525350.py:2: SettingWithCopyWarning: \n",
      "A value is trying to be set on a copy of a slice from a DataFrame.\n",
      "Try using .loc[row_indexer,col_indexer] = value instead\n",
      "\n",
      "See the caveats in the documentation: https://pandas.pydata.org/pandas-docs/stable/user_guide/indexing.html#returning-a-view-versus-a-copy\n",
      "  final_customer_data['department'] = final_customer_data['department_id'].map(department_map)\n"
     ]
    }
   ],
   "source": [
    "#Mapping customers to departments\n",
    "final_customer_data['department'] = final_customer_data['department_id'].map(department_map)"
   ]
  },
  {
   "cell_type": "code",
   "execution_count": 23,
   "id": "e90b0e1d",
   "metadata": {},
   "outputs": [
    {
     "data": {
      "text/plain": [
       "(24414877, 37)"
      ]
     },
     "execution_count": 23,
     "metadata": {},
     "output_type": "execute_result"
    }
   ],
   "source": [
    "final_customer_data.shape"
   ]
  },
  {
   "cell_type": "code",
   "execution_count": 24,
   "id": "af4b4d0f",
   "metadata": {},
   "outputs": [
    {
     "data": {
      "text/plain": [
       "produce            7227091\n",
       "dairy eggs         4120488\n",
       "snacks             2187121\n",
       "beverages          2036447\n",
       "frozen             1627614\n",
       "pantry             1385375\n",
       "bakery              883330\n",
       "canned goods        787790\n",
       "deli                783011\n",
       "dry goods pasta     633725\n",
       "household           539349\n",
       "breakfast           524945\n",
       "meat seafood        523890\n",
       "babies              335947\n",
       "personal care       328480\n",
       "international       197900\n",
       "alcohol             107972\n",
       "pets                 72111\n",
       "missing              57567\n",
       "bulk                 27558\n",
       "other                27166\n",
       "Name: department, dtype: int64"
      ]
     },
     "execution_count": 24,
     "metadata": {},
     "output_type": "execute_result"
    }
   ],
   "source": [
    "#Departments values based on customer data\n",
    "final_customer_data['department'].value_counts(dropna = False)"
   ]
  },
  {
   "cell_type": "code",
   "execution_count": 38,
   "id": "e7d05e83",
   "metadata": {},
   "outputs": [],
   "source": [
    "#Number of dependents \n",
    "final_customer_data.loc[final_customer_data['number_dependants'] == 0, 'family_size'] = 'Small'\n",
    "final_customer_data.loc[(final_customer_data['number_dependants'] == 1) | (final_customer_data['number_dependants'] == 2), 'family_size'] = 'Mid size'\n",
    "final_customer_data.loc[final_customer_data['number_dependants'] > 2, 'family_size'] = 'Large'"
   ]
  },
  {
   "cell_type": "code",
   "execution_count": 39,
   "id": "f0b8d973",
   "metadata": {},
   "outputs": [
    {
     "data": {
      "text/plain": [
       "Mid size    12176338\n",
       "Large        6133537\n",
       "Small        6105002\n",
       "Name: family_size, dtype: int64"
      ]
     },
     "execution_count": 39,
     "metadata": {},
     "output_type": "execute_result"
    }
   ],
   "source": [
    "final_customer_data['family_size'].value_counts(dropna = False)"
   ]
  },
  {
   "cell_type": "code",
   "execution_count": 25,
   "id": "4906879f",
   "metadata": {},
   "outputs": [
    {
     "name": "stderr",
     "output_type": "stream",
     "text": [
      "/var/folders/8w/y0j0hy213tj11t4fgrr14y1h0000gn/T/ipykernel_2901/3997035791.py:2: SettingWithCopyWarning: \n",
      "A value is trying to be set on a copy of a slice from a DataFrame.\n",
      "Try using .loc[row_indexer,col_indexer] = value instead\n",
      "\n",
      "See the caveats in the documentation: https://pandas.pydata.org/pandas-docs/stable/user_guide/indexing.html#returning-a-view-versus-a-copy\n",
      "  final_customer_data.loc[final_customer_data['department'] !='pets', 'pet_owner'] = 'No'\n"
     ]
    }
   ],
   "source": [
    "#Department Based Customers - Pets\n",
    "final_customer_data.loc[final_customer_data['department'] !='pets', 'pet_owner'] = 'No'\n",
    "final_customer_data.loc[final_customer_data['department'] =='pets', 'pet_owner'] = 'Yes'"
   ]
  },
  {
   "cell_type": "code",
   "execution_count": 26,
   "id": "4bebe4a3",
   "metadata": {},
   "outputs": [
    {
     "data": {
      "text/plain": [
       "No     24342766\n",
       "Yes       72111\n",
       "Name: pet_owner, dtype: int64"
      ]
     },
     "execution_count": 26,
     "metadata": {},
     "output_type": "execute_result"
    }
   ],
   "source": [
    "#Pet Category Flag\n",
    "final_customer_data['pet_owner'].value_counts(dropna = False)"
   ]
  },
  {
   "cell_type": "code",
   "execution_count": 27,
   "id": "0e0c4a31",
   "metadata": {},
   "outputs": [
    {
     "data": {
      "text/plain": [
       "(24414877, 38)"
      ]
     },
     "execution_count": 27,
     "metadata": {},
     "output_type": "execute_result"
    }
   ],
   "source": [
    "#confirming new column\n",
    "final_customer_data.shape"
   ]
  },
  {
   "cell_type": "code",
   "execution_count": 28,
   "id": "268c592e",
   "metadata": {},
   "outputs": [
    {
     "data": {
      "text/plain": [
       "4.0     7227091\n",
       "16.0    4120488\n",
       "19.0    2187121\n",
       "7.0     2036447\n",
       "1.0     1627614\n",
       "13.0    1385375\n",
       "3.0      883330\n",
       "15.0     787790\n",
       "20.0     783011\n",
       "9.0      633725\n",
       "17.0     539349\n",
       "14.0     524945\n",
       "12.0     523890\n",
       "18.0     335947\n",
       "11.0     328480\n",
       "6.0      197900\n",
       "5.0      107972\n",
       "8.0       72111\n",
       "21.0      57567\n",
       "10.0      27558\n",
       "2.0       27166\n",
       "Name: department_id, dtype: int64"
      ]
     },
     "execution_count": 28,
     "metadata": {},
     "output_type": "execute_result"
    }
   ],
   "source": [
    "#Department Based Customer Flag\n",
    "final_customer_data['department_id'].value_counts(dropna = False)"
   ]
  },
  {
   "cell_type": "code",
   "execution_count": 29,
   "id": "f6de02a1",
   "metadata": {},
   "outputs": [
    {
     "data": {
      "text/plain": [
       "0.0      160533\n",
       "1.0       83352\n",
       "2.0       50025\n",
       "3.0       37293\n",
       "4.0       39660\n",
       "5.0       67956\n",
       "6.0      227981\n",
       "7.0      704807\n",
       "8.0     1349840\n",
       "9.0     1909015\n",
       "10.0    2119103\n",
       "11.0    2070794\n",
       "12.0    1961666\n",
       "13.0    1997116\n",
       "14.0    2018254\n",
       "15.0    1988057\n",
       "16.0    1880003\n",
       "17.0    1533831\n",
       "18.0    1192690\n",
       "19.0     919242\n",
       "20.0     724980\n",
       "21.0     601378\n",
       "22.0     477020\n",
       "23.0     300281\n",
       "Name: order_hour_of_day, dtype: int64"
      ]
     },
     "execution_count": 29,
     "metadata": {},
     "output_type": "execute_result"
    }
   ],
   "source": [
    "#Hour Preference Customer\n",
    "final_customer_data['order_hour_of_day'].value_counts(dropna = False).sort_index()"
   ]
  },
  {
   "cell_type": "code",
   "execution_count": 30,
   "id": "8a5908b8",
   "metadata": {},
   "outputs": [
    {
     "name": "stderr",
     "output_type": "stream",
     "text": [
      "/var/folders/8w/y0j0hy213tj11t4fgrr14y1h0000gn/T/ipykernel_2901/3076868095.py:2: SettingWithCopyWarning: \n",
      "A value is trying to be set on a copy of a slice from a DataFrame.\n",
      "Try using .loc[row_indexer,col_indexer] = value instead\n",
      "\n",
      "See the caveats in the documentation: https://pandas.pydata.org/pandas-docs/stable/user_guide/indexing.html#returning-a-view-versus-a-copy\n",
      "  final_customer_data.loc[final_customer_data['order_hour_of_day'] <5 , 'order_time_habit'] = 'Night owl'\n"
     ]
    }
   ],
   "source": [
    "#Create 'period_of_day' column based on order time\n",
    "final_customer_data.loc[final_customer_data['order_hour_of_day'] <5 , 'order_time_habit'] = 'Night owl'\n",
    "final_customer_data.loc[(final_customer_data['order_hour_of_day']>= 9) & (final_customer_data['order_hour_of_day']<= 23), 'order_time_habit'] = 'Regular'\n",
    "final_customer_data.loc[(final_customer_data['order_hour_of_day']>= 5) & (final_customer_data['order_hour_of_day']< 9), 'order_time_habit'] = 'Early bird'"
   ]
  },
  {
   "cell_type": "code",
   "execution_count": 31,
   "id": "31ac99f8",
   "metadata": {},
   "outputs": [
    {
     "data": {
      "text/plain": [
       "Regular       21693430\n",
       "Early bird     2350584\n",
       "Night owl       370863\n",
       "Name: order_time_habit, dtype: int64"
      ]
     },
     "execution_count": 31,
     "metadata": {},
     "output_type": "execute_result"
    }
   ],
   "source": [
    "#Period_of_day Category Flag\n",
    "final_customer_data['order_time_habit'].value_counts(dropna = False)"
   ]
  },
  {
   "cell_type": "markdown",
   "id": "85240950",
   "metadata": {},
   "source": [
    "# 6. Visualizations"
   ]
  },
  {
   "cell_type": "code",
   "execution_count": 32,
   "id": "7398cc79",
   "metadata": {},
   "outputs": [
    {
     "data": {
      "text/plain": [
       "Text(0.5, 1.0, 'Instacart Customers Pet Ownership')"
      ]
     },
     "execution_count": 32,
     "metadata": {},
     "output_type": "execute_result"
    },
    {
     "data": {
      "image/png": "[encoded data removed]",
      "text/plain": [
       "<Figure size 640x480 with 1 Axes>"
      ]
     },
     "metadata": {},
     "output_type": "display_data"
    }
   ],
   "source": [
    "#Pie chart for pet owner profile\n",
    "pet_pie = final_customer_data['pet_owner'].value_counts().plot.pie(labels = ['No Pets','Pets'], colors = ['pink', 'purple'], label = '')\n",
    "plt.title(\"Instacart Customers Pet Ownership\", fontsize = '18')"
   ]
  },
  {
   "cell_type": "code",
   "execution_count": 48,
   "id": "2b9c7801",
   "metadata": {},
   "outputs": [
    {
     "data": {
      "text/plain": [
       "Text(0.5, 1.0, 'Instacart Customer Family Size')"
      ]
     },
     "execution_count": 48,
     "metadata": {},
     "output_type": "execute_result"
    },
    {
     "data": {
      "image/png": "[encoded data removed]",
      "text/plain": [
       "<Figure size 640x480 with 1 Axes>"
      ]
     },
     "metadata": {},
     "output_type": "display_data"
    }
   ],
   "source": [
    "#Pie chart for number of dependents\n",
    "family_pie = final_customer_data['family_size'].value_counts().plot.pie(colors = ['pink', 'purple', 'orchid'], label = '')\n",
    "plt.title(\"Instacart Customer Family Size\", fontsize = '18')"
   ]
  },
  {
   "cell_type": "code",
   "execution_count": 46,
   "id": "46fd7ef3",
   "metadata": {},
   "outputs": [
    {
     "data": {
      "text/plain": [
       "Text(0, 0.5, 'Frequency (in millions)')"
      ]
     },
     "execution_count": 46,
     "metadata": {},
     "output_type": "execute_result"
    },
    {
     "data": {
      "image/png": "[encoded data removed]",
      "text/plain": [
       "<Figure size 640x480 with 1 Axes>"
      ]
     },
     "metadata": {},
     "output_type": "display_data"
    }
   ],
   "source": [
    "#Bar chart for Hour Preference\n",
    "habit_bar = final_customer_data['order_time_habit'].value_counts().plot.bar( color = ['lavender', 'deeppink', 'orchid'])\n",
    "plt.title('Ordet Time Habit', fontsize = 18, pad=20)\n",
    "plt.ylabel('Frequency (in millions)', fontsize = 12)"
   ]
  },
  {
   "cell_type": "code",
   "execution_count": 101,
   "id": "838727a9",
   "metadata": {},
   "outputs": [
    {
     "data": {
      "text/plain": [
       "Text(0.5, 0, 'Region')"
      ]
     },
     "execution_count": 101,
     "metadata": {},
     "output_type": "execute_result"
    },
    {
     "data": {
      "image/png": "[encoded data removed]",
      "text/plain": [
       "<Figure size 640x480 with 1 Axes>"
      ]
     },
     "metadata": {},
     "output_type": "display_data"
    }
   ],
   "source": [
    "#Stacked bar chart of spending categories across regions\n",
    "bar_spender = crosstab.plot(kind = 'bar', rot = 0, color= ['pink', 'lavender'])\n",
    "bar_spender.legend(title='Income Category', bbox_to_anchor=(1, 1.02), loc='upper left')\n",
    "plt.title('Instacart Spending Category Across Regions', fontsize = 18, pad=20)\n",
    "plt.ylabel('Frequency (in millions)', fontsize = 12)\n",
    "plt.xlabel('Region',  fontsize = 12)\n"
   ]
  },
  {
   "cell_type": "code",
   "execution_count": 98,
   "id": "80a41424",
   "metadata": {},
   "outputs": [
    {
     "data": {
      "text/plain": [
       "Text(0.5, 1.0, 'Instacart Age Category')"
      ]
     },
     "execution_count": 98,
     "metadata": {},
     "output_type": "execute_result"
    },
    {
     "data": {
      "image/png": "[encoded data removed]",
      "text/plain": [
       "<Figure size 640x480 with 1 Axes>"
      ]
     },
     "metadata": {},
     "output_type": "display_data"
    }
   ],
   "source": [
    "#Bar chart of Instacart's Age Groups\n",
    "age_pie = final_customer_data['age category'].value_counts().plot.pie(labels = ['Young Adult','Middle Age', 'Senior'], autopct=('%1.f%%'), colors = ['palevioletred', 'lavender', 'deeppink'], label = '')\n",
    "plt.title(\"Instacart Age Category\", fontsize = '18')\n",
    "                                                                     "
   ]
  },
  {
   "cell_type": "code",
   "execution_count": 95,
   "id": "bf302c6b",
   "metadata": {},
   "outputs": [
    {
     "data": {
      "text/plain": [
       "Text(0, 0.5, 'Frequency (in millions)')"
      ]
     },
     "execution_count": 95,
     "metadata": {},
     "output_type": "execute_result"
    },
    {
     "data": {
      "image/png": "[encoded data removed]",
      "text/plain": [
       "<Figure size 640x480 with 1 Axes>"
      ]
     },
     "metadata": {},
     "output_type": "display_data"
    }
   ],
   "source": [
    "#Stacked bar chart of income categories across regions\n",
    "income_bar = final_customer_data['income_category'].value_counts().plot.bar( color = ['pink', 'purple', 'magenta', 'deeppink'])\n",
    "plt.title('Instacart Customer Income', fontsize = 18, pad=20)\n",
    "plt.ylabel('Frequency (in millions)', fontsize = 12)\n"
   ]
  },
  {
   "cell_type": "code",
   "execution_count": 60,
   "id": "bc337071",
   "metadata": {},
   "outputs": [
    {
     "data": {
      "text/html": [
       "<div>\n",
       "<style scoped>\n",
       "    .dataframe tbody tr th:only-of-type {\n",
       "        vertical-align: middle;\n",
       "    }\n",
       "\n",
       "    .dataframe tbody tr th {\n",
       "        vertical-align: top;\n",
       "    }\n",
       "\n",
       "    .dataframe thead th {\n",
       "        text-align: right;\n",
       "    }\n",
       "</style>\n",
       "<table border=\"1\" class=\"dataframe\">\n",
       "  <thead>\n",
       "    <tr style=\"text-align: right;\">\n",
       "      <th>income_category</th>\n",
       "      <th>High</th>\n",
       "      <th>Low</th>\n",
       "      <th>Middle</th>\n",
       "      <th>Upper mid</th>\n",
       "    </tr>\n",
       "    <tr>\n",
       "      <th>region</th>\n",
       "      <th></th>\n",
       "      <th></th>\n",
       "      <th></th>\n",
       "      <th></th>\n",
       "    </tr>\n",
       "  </thead>\n",
       "  <tbody>\n",
       "    <tr>\n",
       "      <th>Midwest</th>\n",
       "      <td>1046551</td>\n",
       "      <td>1161911</td>\n",
       "      <td>1132812</td>\n",
       "      <td>960670</td>\n",
       "    </tr>\n",
       "    <tr>\n",
       "      <th>Northeast</th>\n",
       "      <td>1032278</td>\n",
       "      <td>1164441</td>\n",
       "      <td>1160881</td>\n",
       "      <td>957671</td>\n",
       "    </tr>\n",
       "    <tr>\n",
       "      <th>South</th>\n",
       "      <td>1816502</td>\n",
       "      <td>2112962</td>\n",
       "      <td>2075307</td>\n",
       "      <td>1644945</td>\n",
       "    </tr>\n",
       "    <tr>\n",
       "      <th>West</th>\n",
       "      <td>1491484</td>\n",
       "      <td>1730944</td>\n",
       "      <td>1656917</td>\n",
       "      <td>1379419</td>\n",
       "    </tr>\n",
       "  </tbody>\n",
       "</table>\n",
       "</div>"
      ],
      "text/plain": [
       "income_category     High      Low   Middle  Upper mid\n",
       "region                                               \n",
       "Midwest          1046551  1161911  1132812     960670\n",
       "Northeast        1032278  1164441  1160881     957671\n",
       "South            1816502  2112962  2075307    1644945\n",
       "West             1491484  1730944  1656917    1379419"
      ]
     },
     "execution_count": 60,
     "metadata": {},
     "output_type": "execute_result"
    }
   ],
   "source": [
    "# Stacked bar chart of income_category across regions\n",
    "income_region = pd.crosstab (final_customer_data['region'],final_customer_data['income_category'], dropna = False)\n",
    "income_region"
   ]
  },
  {
   "cell_type": "code",
   "execution_count": 92,
   "id": "03aca43f",
   "metadata": {},
   "outputs": [
    {
     "data": {
      "text/plain": [
       "Text(0.5, 0, 'Region')"
      ]
     },
     "execution_count": 92,
     "metadata": {},
     "output_type": "execute_result"
    },
    {
     "data": {
      "image/png": "[encoded data removed]",
      "text/plain": [
       "<Figure size 640x480 with 1 Axes>"
      ]
     },
     "metadata": {},
     "output_type": "display_data"
    }
   ],
   "source": [
    "#Stacked bar chart of Income categories across regions\n",
    "bar_income = income_region.plot(kind = 'bar', rot = 0, color= ['pink', 'lavender', 'palevioletred', 'orchid'])\n",
    "bar_income.legend(title='Income Category', bbox_to_anchor=(1, 1.02), loc='upper left')\n",
    "plt.title('Instacart Spending Category Across Regions', fontsize = 18, pad=20)\n",
    "plt.ylabel('Frequency (in millions)', fontsize = 12)\n",
    "plt.xlabel('Region',  fontsize = 12)"
   ]
  },
  {
   "cell_type": "markdown",
   "id": "11402902",
   "metadata": {},
   "source": [
    "# Aggregate customer profile level for usage frequency and expenditure"
   ]
  },
  {
   "cell_type": "code",
   "execution_count": 122,
   "id": "f6c6545a",
   "metadata": {},
   "outputs": [
    {
     "data": {
      "text/html": [
       "<div>\n",
       "<style scoped>\n",
       "    .dataframe tbody tr th:only-of-type {\n",
       "        vertical-align: middle;\n",
       "    }\n",
       "\n",
       "    .dataframe tbody tr th {\n",
       "        vertical-align: top;\n",
       "    }\n",
       "\n",
       "    .dataframe thead tr th {\n",
       "        text-align: left;\n",
       "    }\n",
       "\n",
       "    .dataframe thead tr:last-of-type th {\n",
       "        text-align: right;\n",
       "    }\n",
       "</style>\n",
       "<table border=\"1\" class=\"dataframe\">\n",
       "  <thead>\n",
       "    <tr>\n",
       "      <th></th>\n",
       "      <th colspan=\"3\" halign=\"left\">prices</th>\n",
       "    </tr>\n",
       "    <tr>\n",
       "      <th></th>\n",
       "      <th>mean</th>\n",
       "      <th>min</th>\n",
       "      <th>max</th>\n",
       "    </tr>\n",
       "    <tr>\n",
       "      <th>department</th>\n",
       "      <th></th>\n",
       "      <th></th>\n",
       "      <th></th>\n",
       "    </tr>\n",
       "  </thead>\n",
       "  <tbody>\n",
       "    <tr>\n",
       "      <th>bakery</th>\n",
       "      <td>16.299581</td>\n",
       "      <td>8.0</td>\n",
       "      <td>25.0</td>\n",
       "    </tr>\n",
       "    <tr>\n",
       "      <th>beverages</th>\n",
       "      <td>7.977830</td>\n",
       "      <td>1.0</td>\n",
       "      <td>15.0</td>\n",
       "    </tr>\n",
       "    <tr>\n",
       "      <th>dry goods pasta</th>\n",
       "      <td>8.021686</td>\n",
       "      <td>1.0</td>\n",
       "      <td>20.0</td>\n",
       "    </tr>\n",
       "    <tr>\n",
       "      <th>international</th>\n",
       "      <td>4.274953</td>\n",
       "      <td>1.6</td>\n",
       "      <td>7.0</td>\n",
       "    </tr>\n",
       "    <tr>\n",
       "      <th>missing</th>\n",
       "      <td>32.264209</td>\n",
       "      <td>1.0</td>\n",
       "      <td>99999.0</td>\n",
       "    </tr>\n",
       "    <tr>\n",
       "      <th>pets</th>\n",
       "      <td>8.039889</td>\n",
       "      <td>1.0</td>\n",
       "      <td>14.9</td>\n",
       "    </tr>\n",
       "    <tr>\n",
       "      <th>produce</th>\n",
       "      <td>8.327531</td>\n",
       "      <td>1.4</td>\n",
       "      <td>14.1</td>\n",
       "    </tr>\n",
       "  </tbody>\n",
       "</table>\n",
       "</div>"
      ],
      "text/plain": [
       "                    prices              \n",
       "                      mean  min      max\n",
       "department                              \n",
       "bakery           16.299581  8.0     25.0\n",
       "beverages         7.977830  1.0     15.0\n",
       "dry goods pasta   8.021686  1.0     20.0\n",
       "international     4.274953  1.6      7.0\n",
       "missing          32.264209  1.0  99999.0\n",
       "pets              8.039889  1.0     14.9\n",
       "produce           8.327531  1.4     14.1"
      ]
     },
     "execution_count": 122,
     "metadata": {},
     "output_type": "execute_result"
    }
   ],
   "source": [
    "# Department category aggregation\n",
    "final_customer_data.groupby('department').agg({'prices' : ['mean', 'min', 'max']})"
   ]
  },
  {
   "cell_type": "code",
   "execution_count": 45,
   "id": "76c14324",
   "metadata": {},
   "outputs": [
    {
     "data": {
      "text/html": [
       "<div>\n",
       "<style scoped>\n",
       "    .dataframe tbody tr th:only-of-type {\n",
       "        vertical-align: middle;\n",
       "    }\n",
       "\n",
       "    .dataframe tbody tr th {\n",
       "        vertical-align: top;\n",
       "    }\n",
       "\n",
       "    .dataframe thead tr th {\n",
       "        text-align: left;\n",
       "    }\n",
       "\n",
       "    .dataframe thead tr:last-of-type th {\n",
       "        text-align: right;\n",
       "    }\n",
       "</style>\n",
       "<table border=\"1\" class=\"dataframe\">\n",
       "  <thead>\n",
       "    <tr>\n",
       "      <th></th>\n",
       "      <th colspan=\"3\" halign=\"left\">add_to_cart_order</th>\n",
       "    </tr>\n",
       "    <tr>\n",
       "      <th></th>\n",
       "      <th>mean</th>\n",
       "      <th>min</th>\n",
       "      <th>max</th>\n",
       "    </tr>\n",
       "    <tr>\n",
       "      <th>age category</th>\n",
       "      <th></th>\n",
       "      <th></th>\n",
       "      <th></th>\n",
       "    </tr>\n",
       "  </thead>\n",
       "  <tbody>\n",
       "    <tr>\n",
       "      <th>Middle Age</th>\n",
       "      <td>8.367226</td>\n",
       "      <td>1.0</td>\n",
       "      <td>137.0</td>\n",
       "    </tr>\n",
       "    <tr>\n",
       "      <th>Senior</th>\n",
       "      <td>8.309771</td>\n",
       "      <td>1.0</td>\n",
       "      <td>99.0</td>\n",
       "    </tr>\n",
       "    <tr>\n",
       "      <th>Young Adult</th>\n",
       "      <td>8.437359</td>\n",
       "      <td>1.0</td>\n",
       "      <td>109.0</td>\n",
       "    </tr>\n",
       "  </tbody>\n",
       "</table>\n",
       "</div>"
      ],
      "text/plain": [
       "             add_to_cart_order            \n",
       "                          mean  min    max\n",
       "age category                              \n",
       "Middle Age            8.367226  1.0  137.0\n",
       "Senior                8.309771  1.0   99.0\n",
       "Young Adult           8.437359  1.0  109.0"
      ]
     },
     "execution_count": 45,
     "metadata": {},
     "output_type": "execute_result"
    }
   ],
   "source": [
    "#Age category \n",
    "final_customer_data.groupby('age category').agg({'add_to_cart_order' : ['mean', 'min', 'max']})"
   ]
  },
  {
   "cell_type": "code",
   "execution_count": 46,
   "id": "9d451ffa",
   "metadata": {},
   "outputs": [
    {
     "data": {
      "text/html": [
       "<div>\n",
       "<style scoped>\n",
       "    .dataframe tbody tr th:only-of-type {\n",
       "        vertical-align: middle;\n",
       "    }\n",
       "\n",
       "    .dataframe tbody tr th {\n",
       "        vertical-align: top;\n",
       "    }\n",
       "\n",
       "    .dataframe thead tr th {\n",
       "        text-align: left;\n",
       "    }\n",
       "\n",
       "    .dataframe thead tr:last-of-type th {\n",
       "        text-align: right;\n",
       "    }\n",
       "</style>\n",
       "<table border=\"1\" class=\"dataframe\">\n",
       "  <thead>\n",
       "    <tr>\n",
       "      <th></th>\n",
       "      <th colspan=\"3\" halign=\"left\">prices</th>\n",
       "    </tr>\n",
       "    <tr>\n",
       "      <th></th>\n",
       "      <th>mean</th>\n",
       "      <th>min</th>\n",
       "      <th>max</th>\n",
       "    </tr>\n",
       "    <tr>\n",
       "      <th>region</th>\n",
       "      <th></th>\n",
       "      <th></th>\n",
       "      <th></th>\n",
       "    </tr>\n",
       "  </thead>\n",
       "  <tbody>\n",
       "    <tr>\n",
       "      <th>Midwest</th>\n",
       "      <td>13.145429</td>\n",
       "      <td>1.0</td>\n",
       "      <td>99999.0</td>\n",
       "    </tr>\n",
       "    <tr>\n",
       "      <th>Northeast</th>\n",
       "      <td>11.290229</td>\n",
       "      <td>1.0</td>\n",
       "      <td>99999.0</td>\n",
       "    </tr>\n",
       "    <tr>\n",
       "      <th>South</th>\n",
       "      <td>12.080600</td>\n",
       "      <td>1.0</td>\n",
       "      <td>99999.0</td>\n",
       "    </tr>\n",
       "    <tr>\n",
       "      <th>West</th>\n",
       "      <td>10.897110</td>\n",
       "      <td>1.0</td>\n",
       "      <td>99999.0</td>\n",
       "    </tr>\n",
       "  </tbody>\n",
       "</table>\n",
       "</div>"
      ],
      "text/plain": [
       "              prices              \n",
       "                mean  min      max\n",
       "region                            \n",
       "Midwest    13.145429  1.0  99999.0\n",
       "Northeast  11.290229  1.0  99999.0\n",
       "South      12.080600  1.0  99999.0\n",
       "West       10.897110  1.0  99999.0"
      ]
     },
     "execution_count": 46,
     "metadata": {},
     "output_type": "execute_result"
    }
   ],
   "source": [
    "#Region Category \n",
    "final_customer_data.groupby('region').agg({'prices' : ['mean', 'min', 'max']})"
   ]
  },
  {
   "cell_type": "code",
   "execution_count": 53,
   "id": "71849413",
   "metadata": {},
   "outputs": [
    {
     "data": {
      "text/html": [
       "<div>\n",
       "<style scoped>\n",
       "    .dataframe tbody tr th:only-of-type {\n",
       "        vertical-align: middle;\n",
       "    }\n",
       "\n",
       "    .dataframe tbody tr th {\n",
       "        vertical-align: top;\n",
       "    }\n",
       "\n",
       "    .dataframe thead tr th {\n",
       "        text-align: left;\n",
       "    }\n",
       "\n",
       "    .dataframe thead tr:last-of-type th {\n",
       "        text-align: right;\n",
       "    }\n",
       "</style>\n",
       "<table border=\"1\" class=\"dataframe\">\n",
       "  <thead>\n",
       "    <tr>\n",
       "      <th></th>\n",
       "      <th colspan=\"3\" halign=\"left\">add_to_cart_order</th>\n",
       "    </tr>\n",
       "    <tr>\n",
       "      <th></th>\n",
       "      <th>mean</th>\n",
       "      <th>min</th>\n",
       "      <th>max</th>\n",
       "    </tr>\n",
       "    <tr>\n",
       "      <th>region</th>\n",
       "      <th></th>\n",
       "      <th></th>\n",
       "      <th></th>\n",
       "    </tr>\n",
       "  </thead>\n",
       "  <tbody>\n",
       "    <tr>\n",
       "      <th>Midwest</th>\n",
       "      <td>8.352674</td>\n",
       "      <td>1.0</td>\n",
       "      <td>109.0</td>\n",
       "    </tr>\n",
       "    <tr>\n",
       "      <th>Northeast</th>\n",
       "      <td>8.398715</td>\n",
       "      <td>1.0</td>\n",
       "      <td>121.0</td>\n",
       "    </tr>\n",
       "    <tr>\n",
       "      <th>South</th>\n",
       "      <td>8.374682</td>\n",
       "      <td>1.0</td>\n",
       "      <td>137.0</td>\n",
       "    </tr>\n",
       "    <tr>\n",
       "      <th>West</th>\n",
       "      <td>8.372988</td>\n",
       "      <td>1.0</td>\n",
       "      <td>114.0</td>\n",
       "    </tr>\n",
       "  </tbody>\n",
       "</table>\n",
       "</div>"
      ],
      "text/plain": [
       "          add_to_cart_order            \n",
       "                       mean  min    max\n",
       "region                                 \n",
       "Midwest            8.352674  1.0  109.0\n",
       "Northeast          8.398715  1.0  121.0\n",
       "South              8.374682  1.0  137.0\n",
       "West               8.372988  1.0  114.0"
      ]
     },
     "execution_count": 53,
     "metadata": {},
     "output_type": "execute_result"
    }
   ],
   "source": [
    "#Region usage\n",
    "final_customer_data.groupby('region').agg ({'add_to_cart_order' : ['mean', 'min', 'max']})"
   ]
  },
  {
   "cell_type": "markdown",
   "id": "2db40a15",
   "metadata": {},
   "source": [
    "# 8. Compare customer profiles"
   ]
  },
  {
   "cell_type": "code",
   "execution_count": 62,
   "id": "f876ff33",
   "metadata": {},
   "outputs": [],
   "source": [
    "#Age and Order of the day\n",
    "crosstab_agg_day = pd.crosstab(final_customer_data['age category'], final_customer_data['orders_day_of_week'], dropna = False)"
   ]
  },
  {
   "cell_type": "code",
   "execution_count": 68,
   "id": "f0e436ea",
   "metadata": {},
   "outputs": [
    {
     "data": {
      "text/plain": [
       "Text(0.5, 0, 'Age Category')"
      ]
     },
     "execution_count": 68,
     "metadata": {},
     "output_type": "execute_result"
    },
    {
     "data": {
      "image/png": "[encoded data removed]",
      "text/plain": [
       "<Figure size 640x480 with 1 Axes>"
      ]
     },
     "metadata": {},
     "output_type": "display_data"
    }
   ],
   "source": [
    "#Stacked bar chart of Income categories across regions\n",
    "bar_age_day = crosstab_agg_day.plot(kind = 'bar', rot = 0, color= ['pink', 'lavender', 'palevioletred', 'orchid'])\n",
    "bar_age_day.legend(title='Weekday Orders', bbox_to_anchor=(1, 1.02), loc='upper left', labels=['Saturday', 'Sunday', 'Monday', 'Tuesday', 'Wednesday', 'Thursday', 'Friday'])\n",
    "plt.title('Weekday Purchase by Age Category', fontsize = 18, pad=20)\n",
    "plt.ylabel('Frequency (in millions)', fontsize = 12)\n",
    "plt.xlabel('Age Category',  fontsize = 12)"
   ]
  },
  {
   "cell_type": "code",
   "execution_count": 75,
   "id": "9d93c09a",
   "metadata": {},
   "outputs": [],
   "source": [
    "#Crosstab on order time habits and region\n",
    "habit = pd.crosstab(final_customer_data['region'], final_customer_data['order_hour_of_day'], dropna = False)"
   ]
  },
  {
   "cell_type": "code",
   "execution_count": 87,
   "id": "063c273d",
   "metadata": {},
   "outputs": [
    {
     "data": {
      "text/plain": [
       "Text(0.5, 0, 'Age Category')"
      ]
     },
     "execution_count": 87,
     "metadata": {},
     "output_type": "execute_result"
    },
    {
     "data": {
      "image/png": "[encoded data removed]",
      "text/plain": [
       "<Figure size 640x480 with 1 Axes>"
      ]
     },
     "metadata": {},
     "output_type": "display_data"
    }
   ],
   "source": [
    "#Stacked bar chart of Income categories across regions\n",
    "bar_habit = habit.plot(kind = 'bar', rot = 0, color= ['pink', 'lavender', 'deepskyblue', 'darkgoldenrod', 'cornflowerblue', 'palevioletred', 'orchid', 'purple', 'deeppink', 'indigo', 'orange', 'crimson', 'navy', 'gold', 'red', 'lightblue', 'tan', 'green', 'sienna', 'darkgreen', 'slategrey', 'darkolivegreen', 'black', 'darkslategrey'])\n",
    "bar_habit.legend(title='Weekday Orders', bbox_to_anchor=(1, 1.02), loc='upper left')\n",
    "plt.title('Order Time by Region', fontsize = 18, pad=20)\n",
    "plt.ylabel('Frequency (in millions)', fontsize = 12)\n",
    "plt.xlabel('Age Category',  fontsize = 12)"
   ]
  },
  {
   "cell_type": "markdown",
   "id": "a788583f",
   "metadata": {},
   "source": [
    "# 9. Exporting "
   ]
  },
  {
   "cell_type": "code",
   "execution_count": 89,
   "id": "8360c789",
   "metadata": {},
   "outputs": [],
   "source": [
    "# Exporting .png\n",
    "bar_habit.figure.savefig(r'/Users/ronaldcameron/Documents/Data Analytics/Achievement 4 - Python/02:2023 Insta Cart Basket Analysis/Analysis/bar_habit.png')"
   ]
  },
  {
   "cell_type": "code",
   "execution_count": 90,
   "id": "3dcd5e1c",
   "metadata": {},
   "outputs": [],
   "source": [
    "bar_age_day.figure.savefig(r'/Users/ronaldcameron/Documents/Data Analytics/Achievement 4 - Python/02:2023 Insta Cart Basket Analysis/Analysis/bar_age_day.png')"
   ]
  },
  {
   "cell_type": "code",
   "execution_count": 93,
   "id": "01458151",
   "metadata": {},
   "outputs": [],
   "source": [
    "bar_income.figure.savefig(r'/Users/ronaldcameron/Documents/Data Analytics/Achievement 4 - Python/02:2023 Insta Cart Basket Analysis/Analysis/bar_income.png')"
   ]
  },
  {
   "cell_type": "code",
   "execution_count": 96,
   "id": "47584c81",
   "metadata": {},
   "outputs": [],
   "source": [
    "income_bar.figure.savefig(r'/Users/ronaldcameron/Documents/Data Analytics/Achievement 4 - Python/02:2023 Insta Cart Basket Analysis/Analysis/income_bar.png')"
   ]
  },
  {
   "cell_type": "code",
   "execution_count": 99,
   "id": "28e67f9e",
   "metadata": {},
   "outputs": [],
   "source": [
    "age_pie.figure.savefig(r'/Users/ronaldcameron/Documents/Data Analytics/Achievement 4 - Python/02:2023 Insta Cart Basket Analysis/Analysis/age_pie.png')"
   ]
  },
  {
   "cell_type": "code",
   "execution_count": 103,
   "id": "35fe6aab",
   "metadata": {},
   "outputs": [],
   "source": [
    "bar_spender.figure.savefig(r'/Users/ronaldcameron/Documents/Data Analytics/Achievement 4 - Python/02:2023 Insta Cart Basket Analysis/Analysis/bar_spender.png')"
   ]
  },
  {
   "cell_type": "code",
   "execution_count": 34,
   "id": "c5677c68",
   "metadata": {},
   "outputs": [],
   "source": [
    "time_habit_bar.figure.savefig(r'/Users/ronaldcameron/Documents/Data Analytics/Achievement 4 - Python/02:2023 Insta Cart Basket Analysis/Analysis/time_habit_bar.png')"
   ]
  },
  {
   "cell_type": "code",
   "execution_count": 35,
   "id": "1c07b88b",
   "metadata": {},
   "outputs": [],
   "source": [
    "pet_pie.figure.savefig(r'/Users/ronaldcameron/Documents/Data Analytics/Achievement 4 - Python/02:2023 Insta Cart Basket Analysis/Analysis/pet_pie.png')"
   ]
  },
  {
   "cell_type": "code",
   "execution_count": 47,
   "id": "7ef327ad",
   "metadata": {},
   "outputs": [],
   "source": [
    "family_pie.figure.savefig(r'/Users/ronaldcameron/Documents/Data Analytics/Achievement 4 - Python/02:2023 Insta Cart Basket Analysis/Analysis/family_pie.png')"
   ]
  },
  {
   "cell_type": "raw",
   "id": "21cfc67d",
   "metadata": {},
   "source": [
    "final_customer_data.shape"
   ]
  },
  {
   "cell_type": "code",
   "execution_count": 49,
   "id": "63ddaa8a",
   "metadata": {},
   "outputs": [
    {
     "data": {
      "text/plain": [
       "(24414877, 40)"
      ]
     },
     "execution_count": 49,
     "metadata": {},
     "output_type": "execute_result"
    }
   ],
   "source": [
    "final_customer_data.shape"
   ]
  },
  {
   "cell_type": "code",
   "execution_count": null,
   "id": "f36eb4b0",
   "metadata": {},
   "outputs": [],
   "source": []
  }
 ],
 "metadata": {
  "kernelspec": {
   "display_name": "Python 3 (ipykernel)",
   "language": "python",
   "name": "python3"
  },
  "language_info": {
   "codemirror_mode": {
    "name": "ipython",
    "version": 3
   },
   "file_extension": ".py",
   "mimetype": "text/x-python",
   "name": "python",
   "nbconvert_exporter": "python",
   "pygments_lexer": "ipython3",
   "version": "3.9.13"
  }
 },
 "nbformat": 4,
 "nbformat_minor": 5
}
